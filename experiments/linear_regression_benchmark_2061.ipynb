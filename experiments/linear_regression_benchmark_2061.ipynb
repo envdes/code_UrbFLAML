{
 "cells": [
  {
   "cell_type": "markdown",
   "id": "26428aeb",
   "metadata": {},
   "source": [
    "This script is used for:\n",
    "- training a model based on linear regression\n",
    "\n",
    "**How to launch this Jupyter notebook**:   \n",
    "```bash\n",
    "execcasper -A your_project -l gpu_type=v100 -l walltime=06:00:00 -l select=1:ncpus=18:mpiprocs=36:ngpus=1:mem=300GB\n",
    "bash aws_urban_env.sh\n",
    "```"
   ]
  },
  {
   "cell_type": "code",
   "execution_count": 1,
   "id": "e964ec3f",
   "metadata": {},
   "outputs": [],
   "source": [
    "import warnings\n",
    "warnings.filterwarnings('ignore')\n",
    "\n",
    "import pandas as pd\n",
    "import numpy as np\n",
    "import xarray as xr\n",
    "import gc\n",
    "from tqdm import tqdm\n",
    "from sklearn.metrics import mean_squared_error, r2_score, mean_absolute_error\n",
    "from sklearn.preprocessing import StandardScaler\n",
    "import joblib\n",
    "import statsmodels.api as sm\n",
    "\n",
    "start_year = \"2061\"\n",
    "end_year = \"2070\"\n",
    "urban_LE_nc_path = \"/glade/scratch/zhonghua/urban_params/urban_LE/\"\n",
    "parquet_save_path = \"/glade/scratch/zhonghua/urban_params/urban_LE_random_split/\"\n",
    "urban_surf_path = \"/glade/scratch/zhonghua/urban_params/urban_surface.parquet.gzip\"\n",
    "model_name = \"LR\""
   ]
  },
  {
   "cell_type": "code",
   "execution_count": 2,
   "id": "b5d63f1b",
   "metadata": {},
   "outputs": [
    {
     "name": "stderr",
     "output_type": "stream",
     "text": [
      "100%|███████████████████████████████████████████| 31/31 [00:11<00:00,  2.80it/s]\n"
     ]
    }
   ],
   "source": [
    "fd = {\n",
    "    \"label\":\"TREFMXAV_U\",\n",
    "    \"CAM\": ['FLNS','FSNS','PRECT','PRSN','QBOT','TREFHT','UBOT','VBOT'],\n",
    "    \"surf\":['CANYON_HWR','EM_IMPROAD','EM_PERROAD','EM_ROOF','EM_WALL', \n",
    "            'HT_ROOF','THICK_ROOF','THICK_WALL','T_BUILDING_MAX','T_BUILDING_MIN',\n",
    "            'WTLUNIT_ROOF','WTROAD_PERV','NLEV_IMPROAD','PCT_URBAN',\n",
    "            'ALB_IMPROAD','ALB_PERROAD','ALB_ROOF','ALB_WALL',\n",
    "            'TK_ROOF','TK_WALL','CV_ROOF','CV_WALL',\n",
    "            'TK_IMPROAD_0','CV_IMPROAD_0','TK_IMPROAD_1','CV_IMPROAD_1'],\n",
    "    \"loc\":[\"lat\",\"lon\"]\n",
    "}\n",
    "\n",
    "def get_merge_member(start_year, end_year, parquet_save_path):\n",
    "    df_tmp_ls = []\n",
    "    for member_id in tqdm(range(3, 34)):\n",
    "        member = (str(member_id).zfill(3))\n",
    "        df_tmp_ls.append(pd.read_parquet(parquet_save_path + \"train/\" + member + \"_\"\\\n",
    "                            + start_year + \"_\" + end_year + \".parquet.gzip\", engine=\"fastparquet\"))\n",
    "    return pd.concat(df_tmp_ls)\n",
    "\n",
    "# load data\n",
    "urban_LE = get_merge_member(start_year, end_year, parquet_save_path)\n",
    "urban_surf = pd.read_parquet(urban_surf_path, engine=\"fastparquet\").reset_index()"
   ]
  },
  {
   "cell_type": "code",
   "execution_count": 3,
   "id": "ececcaa7",
   "metadata": {},
   "outputs": [
    {
     "name": "stdout",
     "output_type": "stream",
     "text": [
      "CPU times: user 6.82 s, sys: 1.72 s, total: 8.55 s\n",
      "Wall time: 8.53 s\n"
     ]
    },
    {
     "data": {
      "text/plain": [
       "21"
      ]
     },
     "execution_count": 3,
     "metadata": {},
     "output_type": "execute_result"
    }
   ],
   "source": [
    "%%time\n",
    "# merge data\n",
    "df = pd.merge(urban_LE, urban_surf, on = [\"lat\",\"lon\"], how = \"inner\")\n",
    "# check if we merge the data successfully\n",
    "assert urban_LE.shape[0] == df.shape[0]\n",
    "\n",
    "del urban_LE, urban_surf\n",
    "gc.collect()"
   ]
  },
  {
   "cell_type": "markdown",
   "id": "6692cfd2",
   "metadata": {},
   "source": [
    "## CAM + surf + loc"
   ]
  },
  {
   "cell_type": "code",
   "execution_count": 4,
   "id": "ac63d780",
   "metadata": {},
   "outputs": [
    {
     "name": "stdout",
     "output_type": "stream",
     "text": [
      "model performance using training data:\n",
      "root mean square error: 1.8236303885046825\n",
      "mean_absolute_error: 1.404138472798404\n",
      "r2: 0.9710338061724458\n",
      "CPU times: user 1min 31s, sys: 12 s, total: 1min 43s\n",
      "Wall time: 1min 43s\n"
     ]
    }
   ],
   "source": [
    "%%time\n",
    "feature_ls = fd[\"CAM\"]+fd[\"surf\"]+fd[\"loc\"]\n",
    "\n",
    "X_ori = df[feature_ls]\n",
    "y = df[fd[\"label\"]]\n",
    "\n",
    "scaler = StandardScaler()\n",
    "scaler.fit(X_ori)\n",
    "X_scaler = scaler.transform(X_ori)\n",
    "\n",
    "X = sm.add_constant(X_scaler)\n",
    "reg = sm.OLS(y, X).fit()\n",
    "\n",
    "# ======== trianing performance ========\n",
    "print(\"model performance using training data:\")\n",
    "y_pred = reg.predict(X)\n",
    "print(\"root mean square error:\", \n",
    "      mean_squared_error(y_true=y, y_pred=y_pred, squared=False))\n",
    "print(\"mean_absolute_error:\", mean_absolute_error(y_true=y, y_pred=y_pred))\n",
    "print(\"r2:\", r2_score(y_true=y, y_pred=y_pred))"
   ]
  },
  {
   "cell_type": "code",
   "execution_count": 5,
   "id": "edeb0ae1",
   "metadata": {},
   "outputs": [],
   "source": [
    "def get_test_data(member, start_year, end_year, urban_LE_nc_path, parquet_save_path):\n",
    "    # convert the time to datetime format\n",
    "    ds_urban_LE = xr.open_dataset(urban_LE_nc_path+member+\"_\"+start_year+\"_\"+end_year+\".nc\")\n",
    "    ds_urban_LE = ds_urban_LE.assign_coords(time = ds_urban_LE.indexes['time'].to_datetimeindex())\n",
    "    df = ds_urban_LE.to_dataframe()\n",
    "    \n",
    "    df_train = pd.read_parquet(parquet_save_path + \"train/\" + member + \"_\"\\\n",
    "                               + start_year + \"_\" + end_year + \".parquet.gzip\", engine=\"fastparquet\")  \n",
    "    \n",
    "    del ds_urban_LE\n",
    "    gc.collect()\n",
    "    \n",
    "    # remove missing value based on urban temperature\n",
    "    df_final = df[~np.isnan(df[\"TREFMXAV_U\"])].reset_index()\n",
    "    df_final[\"member\"] = member\n",
    "    \n",
    "    # get testing data based on the saved training data\n",
    "    df_test = df_final.drop(df_train.index)\n",
    "    return df_test\n",
    "\n",
    "def get_pred(start_year, end_year, model_name, member, urban_LE_nc_path, parquet_save_path, reg):\n",
    "    # ====== get data =======\n",
    "    df_test = get_test_data(member, start_year, end_year, urban_LE_nc_path, parquet_save_path)\n",
    "    urban_surf = pd.read_parquet(urban_surf_path, engine=\"fastparquet\").reset_index()\n",
    "    test = pd.merge(df_test, urban_surf, on = [\"lat\",\"lon\"], how = \"inner\")\n",
    "    assert df_test.shape[0] == test.shape[0] #check if we merged successfully\n",
    "    del df_test, urban_surf\n",
    "    gc.collect()\n",
    "    # ====== pred and save=======\n",
    "    print(feature_ls)\n",
    "    \n",
    "    X_test_scaler = scaler.transform(test[feature_ls])\n",
    "    X_test = sm.add_constant(X_test_scaler)\n",
    "    \n",
    "    test[\"y_pred\"] = reg.predict(X_test)\n",
    "    pred_save_loc = parquet_save_path + \"eval/\" + model_name + \"/CAM_surf_loc_\"\\\n",
    "               + member + \"_\" + start_year + \"_\" + end_year + \".parquet.gzip\"\n",
    "    print(\"data loc:\",pred_save_loc)\n",
    "    test[[\"time\",\"lat\",\"lon\",\"TREFMXAV_U\",\"y_pred\"]].to_parquet(pred_save_loc,\n",
    "                                                                compression=\"gzip\", engine=\"pyarrow\")"
   ]
  },
  {
   "cell_type": "code",
   "execution_count": 6,
   "id": "c8c76016",
   "metadata": {
    "scrolled": false
   },
   "outputs": [
    {
     "name": "stdout",
     "output_type": "stream",
     "text": [
      "['FLNS', 'FSNS', 'PRECT', 'PRSN', 'QBOT', 'TREFHT', 'UBOT', 'VBOT', 'CANYON_HWR', 'EM_IMPROAD', 'EM_PERROAD', 'EM_ROOF', 'EM_WALL', 'HT_ROOF', 'THICK_ROOF', 'THICK_WALL', 'T_BUILDING_MAX', 'T_BUILDING_MIN', 'WTLUNIT_ROOF', 'WTROAD_PERV', 'NLEV_IMPROAD', 'PCT_URBAN', 'ALB_IMPROAD', 'ALB_PERROAD', 'ALB_ROOF', 'ALB_WALL', 'TK_ROOF', 'TK_WALL', 'CV_ROOF', 'CV_WALL', 'TK_IMPROAD_0', 'CV_IMPROAD_0', 'TK_IMPROAD_1', 'CV_IMPROAD_1', 'lat', 'lon']\n",
      "data loc: /glade/scratch/zhonghua/urban_params/urban_LE_random_split/eval/LR/CAM_surf_loc_003_2061_2070.parquet.gzip\n",
      "['FLNS', 'FSNS', 'PRECT', 'PRSN', 'QBOT', 'TREFHT', 'UBOT', 'VBOT', 'CANYON_HWR', 'EM_IMPROAD', 'EM_PERROAD', 'EM_ROOF', 'EM_WALL', 'HT_ROOF', 'THICK_ROOF', 'THICK_WALL', 'T_BUILDING_MAX', 'T_BUILDING_MIN', 'WTLUNIT_ROOF', 'WTROAD_PERV', 'NLEV_IMPROAD', 'PCT_URBAN', 'ALB_IMPROAD', 'ALB_PERROAD', 'ALB_ROOF', 'ALB_WALL', 'TK_ROOF', 'TK_WALL', 'CV_ROOF', 'CV_WALL', 'TK_IMPROAD_0', 'CV_IMPROAD_0', 'TK_IMPROAD_1', 'CV_IMPROAD_1', 'lat', 'lon']\n",
      "data loc: /glade/scratch/zhonghua/urban_params/urban_LE_random_split/eval/LR/CAM_surf_loc_004_2061_2070.parquet.gzip\n",
      "['FLNS', 'FSNS', 'PRECT', 'PRSN', 'QBOT', 'TREFHT', 'UBOT', 'VBOT', 'CANYON_HWR', 'EM_IMPROAD', 'EM_PERROAD', 'EM_ROOF', 'EM_WALL', 'HT_ROOF', 'THICK_ROOF', 'THICK_WALL', 'T_BUILDING_MAX', 'T_BUILDING_MIN', 'WTLUNIT_ROOF', 'WTROAD_PERV', 'NLEV_IMPROAD', 'PCT_URBAN', 'ALB_IMPROAD', 'ALB_PERROAD', 'ALB_ROOF', 'ALB_WALL', 'TK_ROOF', 'TK_WALL', 'CV_ROOF', 'CV_WALL', 'TK_IMPROAD_0', 'CV_IMPROAD_0', 'TK_IMPROAD_1', 'CV_IMPROAD_1', 'lat', 'lon']\n",
      "data loc: /glade/scratch/zhonghua/urban_params/urban_LE_random_split/eval/LR/CAM_surf_loc_005_2061_2070.parquet.gzip\n",
      "['FLNS', 'FSNS', 'PRECT', 'PRSN', 'QBOT', 'TREFHT', 'UBOT', 'VBOT', 'CANYON_HWR', 'EM_IMPROAD', 'EM_PERROAD', 'EM_ROOF', 'EM_WALL', 'HT_ROOF', 'THICK_ROOF', 'THICK_WALL', 'T_BUILDING_MAX', 'T_BUILDING_MIN', 'WTLUNIT_ROOF', 'WTROAD_PERV', 'NLEV_IMPROAD', 'PCT_URBAN', 'ALB_IMPROAD', 'ALB_PERROAD', 'ALB_ROOF', 'ALB_WALL', 'TK_ROOF', 'TK_WALL', 'CV_ROOF', 'CV_WALL', 'TK_IMPROAD_0', 'CV_IMPROAD_0', 'TK_IMPROAD_1', 'CV_IMPROAD_1', 'lat', 'lon']\n",
      "data loc: /glade/scratch/zhonghua/urban_params/urban_LE_random_split/eval/LR/CAM_surf_loc_006_2061_2070.parquet.gzip\n",
      "['FLNS', 'FSNS', 'PRECT', 'PRSN', 'QBOT', 'TREFHT', 'UBOT', 'VBOT', 'CANYON_HWR', 'EM_IMPROAD', 'EM_PERROAD', 'EM_ROOF', 'EM_WALL', 'HT_ROOF', 'THICK_ROOF', 'THICK_WALL', 'T_BUILDING_MAX', 'T_BUILDING_MIN', 'WTLUNIT_ROOF', 'WTROAD_PERV', 'NLEV_IMPROAD', 'PCT_URBAN', 'ALB_IMPROAD', 'ALB_PERROAD', 'ALB_ROOF', 'ALB_WALL', 'TK_ROOF', 'TK_WALL', 'CV_ROOF', 'CV_WALL', 'TK_IMPROAD_0', 'CV_IMPROAD_0', 'TK_IMPROAD_1', 'CV_IMPROAD_1', 'lat', 'lon']\n",
      "data loc: /glade/scratch/zhonghua/urban_params/urban_LE_random_split/eval/LR/CAM_surf_loc_007_2061_2070.parquet.gzip\n",
      "['FLNS', 'FSNS', 'PRECT', 'PRSN', 'QBOT', 'TREFHT', 'UBOT', 'VBOT', 'CANYON_HWR', 'EM_IMPROAD', 'EM_PERROAD', 'EM_ROOF', 'EM_WALL', 'HT_ROOF', 'THICK_ROOF', 'THICK_WALL', 'T_BUILDING_MAX', 'T_BUILDING_MIN', 'WTLUNIT_ROOF', 'WTROAD_PERV', 'NLEV_IMPROAD', 'PCT_URBAN', 'ALB_IMPROAD', 'ALB_PERROAD', 'ALB_ROOF', 'ALB_WALL', 'TK_ROOF', 'TK_WALL', 'CV_ROOF', 'CV_WALL', 'TK_IMPROAD_0', 'CV_IMPROAD_0', 'TK_IMPROAD_1', 'CV_IMPROAD_1', 'lat', 'lon']\n",
      "data loc: /glade/scratch/zhonghua/urban_params/urban_LE_random_split/eval/LR/CAM_surf_loc_008_2061_2070.parquet.gzip\n",
      "['FLNS', 'FSNS', 'PRECT', 'PRSN', 'QBOT', 'TREFHT', 'UBOT', 'VBOT', 'CANYON_HWR', 'EM_IMPROAD', 'EM_PERROAD', 'EM_ROOF', 'EM_WALL', 'HT_ROOF', 'THICK_ROOF', 'THICK_WALL', 'T_BUILDING_MAX', 'T_BUILDING_MIN', 'WTLUNIT_ROOF', 'WTROAD_PERV', 'NLEV_IMPROAD', 'PCT_URBAN', 'ALB_IMPROAD', 'ALB_PERROAD', 'ALB_ROOF', 'ALB_WALL', 'TK_ROOF', 'TK_WALL', 'CV_ROOF', 'CV_WALL', 'TK_IMPROAD_0', 'CV_IMPROAD_0', 'TK_IMPROAD_1', 'CV_IMPROAD_1', 'lat', 'lon']\n",
      "data loc: /glade/scratch/zhonghua/urban_params/urban_LE_random_split/eval/LR/CAM_surf_loc_009_2061_2070.parquet.gzip\n",
      "['FLNS', 'FSNS', 'PRECT', 'PRSN', 'QBOT', 'TREFHT', 'UBOT', 'VBOT', 'CANYON_HWR', 'EM_IMPROAD', 'EM_PERROAD', 'EM_ROOF', 'EM_WALL', 'HT_ROOF', 'THICK_ROOF', 'THICK_WALL', 'T_BUILDING_MAX', 'T_BUILDING_MIN', 'WTLUNIT_ROOF', 'WTROAD_PERV', 'NLEV_IMPROAD', 'PCT_URBAN', 'ALB_IMPROAD', 'ALB_PERROAD', 'ALB_ROOF', 'ALB_WALL', 'TK_ROOF', 'TK_WALL', 'CV_ROOF', 'CV_WALL', 'TK_IMPROAD_0', 'CV_IMPROAD_0', 'TK_IMPROAD_1', 'CV_IMPROAD_1', 'lat', 'lon']\n",
      "data loc: /glade/scratch/zhonghua/urban_params/urban_LE_random_split/eval/LR/CAM_surf_loc_010_2061_2070.parquet.gzip\n",
      "['FLNS', 'FSNS', 'PRECT', 'PRSN', 'QBOT', 'TREFHT', 'UBOT', 'VBOT', 'CANYON_HWR', 'EM_IMPROAD', 'EM_PERROAD', 'EM_ROOF', 'EM_WALL', 'HT_ROOF', 'THICK_ROOF', 'THICK_WALL', 'T_BUILDING_MAX', 'T_BUILDING_MIN', 'WTLUNIT_ROOF', 'WTROAD_PERV', 'NLEV_IMPROAD', 'PCT_URBAN', 'ALB_IMPROAD', 'ALB_PERROAD', 'ALB_ROOF', 'ALB_WALL', 'TK_ROOF', 'TK_WALL', 'CV_ROOF', 'CV_WALL', 'TK_IMPROAD_0', 'CV_IMPROAD_0', 'TK_IMPROAD_1', 'CV_IMPROAD_1', 'lat', 'lon']\n",
      "data loc: /glade/scratch/zhonghua/urban_params/urban_LE_random_split/eval/LR/CAM_surf_loc_011_2061_2070.parquet.gzip\n",
      "['FLNS', 'FSNS', 'PRECT', 'PRSN', 'QBOT', 'TREFHT', 'UBOT', 'VBOT', 'CANYON_HWR', 'EM_IMPROAD', 'EM_PERROAD', 'EM_ROOF', 'EM_WALL', 'HT_ROOF', 'THICK_ROOF', 'THICK_WALL', 'T_BUILDING_MAX', 'T_BUILDING_MIN', 'WTLUNIT_ROOF', 'WTROAD_PERV', 'NLEV_IMPROAD', 'PCT_URBAN', 'ALB_IMPROAD', 'ALB_PERROAD', 'ALB_ROOF', 'ALB_WALL', 'TK_ROOF', 'TK_WALL', 'CV_ROOF', 'CV_WALL', 'TK_IMPROAD_0', 'CV_IMPROAD_0', 'TK_IMPROAD_1', 'CV_IMPROAD_1', 'lat', 'lon']\n",
      "data loc: /glade/scratch/zhonghua/urban_params/urban_LE_random_split/eval/LR/CAM_surf_loc_012_2061_2070.parquet.gzip\n",
      "['FLNS', 'FSNS', 'PRECT', 'PRSN', 'QBOT', 'TREFHT', 'UBOT', 'VBOT', 'CANYON_HWR', 'EM_IMPROAD', 'EM_PERROAD', 'EM_ROOF', 'EM_WALL', 'HT_ROOF', 'THICK_ROOF', 'THICK_WALL', 'T_BUILDING_MAX', 'T_BUILDING_MIN', 'WTLUNIT_ROOF', 'WTROAD_PERV', 'NLEV_IMPROAD', 'PCT_URBAN', 'ALB_IMPROAD', 'ALB_PERROAD', 'ALB_ROOF', 'ALB_WALL', 'TK_ROOF', 'TK_WALL', 'CV_ROOF', 'CV_WALL', 'TK_IMPROAD_0', 'CV_IMPROAD_0', 'TK_IMPROAD_1', 'CV_IMPROAD_1', 'lat', 'lon']\n",
      "data loc: /glade/scratch/zhonghua/urban_params/urban_LE_random_split/eval/LR/CAM_surf_loc_013_2061_2070.parquet.gzip\n",
      "['FLNS', 'FSNS', 'PRECT', 'PRSN', 'QBOT', 'TREFHT', 'UBOT', 'VBOT', 'CANYON_HWR', 'EM_IMPROAD', 'EM_PERROAD', 'EM_ROOF', 'EM_WALL', 'HT_ROOF', 'THICK_ROOF', 'THICK_WALL', 'T_BUILDING_MAX', 'T_BUILDING_MIN', 'WTLUNIT_ROOF', 'WTROAD_PERV', 'NLEV_IMPROAD', 'PCT_URBAN', 'ALB_IMPROAD', 'ALB_PERROAD', 'ALB_ROOF', 'ALB_WALL', 'TK_ROOF', 'TK_WALL', 'CV_ROOF', 'CV_WALL', 'TK_IMPROAD_0', 'CV_IMPROAD_0', 'TK_IMPROAD_1', 'CV_IMPROAD_1', 'lat', 'lon']\n",
      "data loc: /glade/scratch/zhonghua/urban_params/urban_LE_random_split/eval/LR/CAM_surf_loc_014_2061_2070.parquet.gzip\n",
      "['FLNS', 'FSNS', 'PRECT', 'PRSN', 'QBOT', 'TREFHT', 'UBOT', 'VBOT', 'CANYON_HWR', 'EM_IMPROAD', 'EM_PERROAD', 'EM_ROOF', 'EM_WALL', 'HT_ROOF', 'THICK_ROOF', 'THICK_WALL', 'T_BUILDING_MAX', 'T_BUILDING_MIN', 'WTLUNIT_ROOF', 'WTROAD_PERV', 'NLEV_IMPROAD', 'PCT_URBAN', 'ALB_IMPROAD', 'ALB_PERROAD', 'ALB_ROOF', 'ALB_WALL', 'TK_ROOF', 'TK_WALL', 'CV_ROOF', 'CV_WALL', 'TK_IMPROAD_0', 'CV_IMPROAD_0', 'TK_IMPROAD_1', 'CV_IMPROAD_1', 'lat', 'lon']\n",
      "data loc: /glade/scratch/zhonghua/urban_params/urban_LE_random_split/eval/LR/CAM_surf_loc_015_2061_2070.parquet.gzip\n",
      "['FLNS', 'FSNS', 'PRECT', 'PRSN', 'QBOT', 'TREFHT', 'UBOT', 'VBOT', 'CANYON_HWR', 'EM_IMPROAD', 'EM_PERROAD', 'EM_ROOF', 'EM_WALL', 'HT_ROOF', 'THICK_ROOF', 'THICK_WALL', 'T_BUILDING_MAX', 'T_BUILDING_MIN', 'WTLUNIT_ROOF', 'WTROAD_PERV', 'NLEV_IMPROAD', 'PCT_URBAN', 'ALB_IMPROAD', 'ALB_PERROAD', 'ALB_ROOF', 'ALB_WALL', 'TK_ROOF', 'TK_WALL', 'CV_ROOF', 'CV_WALL', 'TK_IMPROAD_0', 'CV_IMPROAD_0', 'TK_IMPROAD_1', 'CV_IMPROAD_1', 'lat', 'lon']\n",
      "data loc: /glade/scratch/zhonghua/urban_params/urban_LE_random_split/eval/LR/CAM_surf_loc_016_2061_2070.parquet.gzip\n",
      "['FLNS', 'FSNS', 'PRECT', 'PRSN', 'QBOT', 'TREFHT', 'UBOT', 'VBOT', 'CANYON_HWR', 'EM_IMPROAD', 'EM_PERROAD', 'EM_ROOF', 'EM_WALL', 'HT_ROOF', 'THICK_ROOF', 'THICK_WALL', 'T_BUILDING_MAX', 'T_BUILDING_MIN', 'WTLUNIT_ROOF', 'WTROAD_PERV', 'NLEV_IMPROAD', 'PCT_URBAN', 'ALB_IMPROAD', 'ALB_PERROAD', 'ALB_ROOF', 'ALB_WALL', 'TK_ROOF', 'TK_WALL', 'CV_ROOF', 'CV_WALL', 'TK_IMPROAD_0', 'CV_IMPROAD_0', 'TK_IMPROAD_1', 'CV_IMPROAD_1', 'lat', 'lon']\n"
     ]
    },
    {
     "name": "stdout",
     "output_type": "stream",
     "text": [
      "data loc: /glade/scratch/zhonghua/urban_params/urban_LE_random_split/eval/LR/CAM_surf_loc_017_2061_2070.parquet.gzip\n",
      "['FLNS', 'FSNS', 'PRECT', 'PRSN', 'QBOT', 'TREFHT', 'UBOT', 'VBOT', 'CANYON_HWR', 'EM_IMPROAD', 'EM_PERROAD', 'EM_ROOF', 'EM_WALL', 'HT_ROOF', 'THICK_ROOF', 'THICK_WALL', 'T_BUILDING_MAX', 'T_BUILDING_MIN', 'WTLUNIT_ROOF', 'WTROAD_PERV', 'NLEV_IMPROAD', 'PCT_URBAN', 'ALB_IMPROAD', 'ALB_PERROAD', 'ALB_ROOF', 'ALB_WALL', 'TK_ROOF', 'TK_WALL', 'CV_ROOF', 'CV_WALL', 'TK_IMPROAD_0', 'CV_IMPROAD_0', 'TK_IMPROAD_1', 'CV_IMPROAD_1', 'lat', 'lon']\n",
      "data loc: /glade/scratch/zhonghua/urban_params/urban_LE_random_split/eval/LR/CAM_surf_loc_018_2061_2070.parquet.gzip\n",
      "['FLNS', 'FSNS', 'PRECT', 'PRSN', 'QBOT', 'TREFHT', 'UBOT', 'VBOT', 'CANYON_HWR', 'EM_IMPROAD', 'EM_PERROAD', 'EM_ROOF', 'EM_WALL', 'HT_ROOF', 'THICK_ROOF', 'THICK_WALL', 'T_BUILDING_MAX', 'T_BUILDING_MIN', 'WTLUNIT_ROOF', 'WTROAD_PERV', 'NLEV_IMPROAD', 'PCT_URBAN', 'ALB_IMPROAD', 'ALB_PERROAD', 'ALB_ROOF', 'ALB_WALL', 'TK_ROOF', 'TK_WALL', 'CV_ROOF', 'CV_WALL', 'TK_IMPROAD_0', 'CV_IMPROAD_0', 'TK_IMPROAD_1', 'CV_IMPROAD_1', 'lat', 'lon']\n",
      "data loc: /glade/scratch/zhonghua/urban_params/urban_LE_random_split/eval/LR/CAM_surf_loc_019_2061_2070.parquet.gzip\n",
      "['FLNS', 'FSNS', 'PRECT', 'PRSN', 'QBOT', 'TREFHT', 'UBOT', 'VBOT', 'CANYON_HWR', 'EM_IMPROAD', 'EM_PERROAD', 'EM_ROOF', 'EM_WALL', 'HT_ROOF', 'THICK_ROOF', 'THICK_WALL', 'T_BUILDING_MAX', 'T_BUILDING_MIN', 'WTLUNIT_ROOF', 'WTROAD_PERV', 'NLEV_IMPROAD', 'PCT_URBAN', 'ALB_IMPROAD', 'ALB_PERROAD', 'ALB_ROOF', 'ALB_WALL', 'TK_ROOF', 'TK_WALL', 'CV_ROOF', 'CV_WALL', 'TK_IMPROAD_0', 'CV_IMPROAD_0', 'TK_IMPROAD_1', 'CV_IMPROAD_1', 'lat', 'lon']\n",
      "data loc: /glade/scratch/zhonghua/urban_params/urban_LE_random_split/eval/LR/CAM_surf_loc_020_2061_2070.parquet.gzip\n",
      "['FLNS', 'FSNS', 'PRECT', 'PRSN', 'QBOT', 'TREFHT', 'UBOT', 'VBOT', 'CANYON_HWR', 'EM_IMPROAD', 'EM_PERROAD', 'EM_ROOF', 'EM_WALL', 'HT_ROOF', 'THICK_ROOF', 'THICK_WALL', 'T_BUILDING_MAX', 'T_BUILDING_MIN', 'WTLUNIT_ROOF', 'WTROAD_PERV', 'NLEV_IMPROAD', 'PCT_URBAN', 'ALB_IMPROAD', 'ALB_PERROAD', 'ALB_ROOF', 'ALB_WALL', 'TK_ROOF', 'TK_WALL', 'CV_ROOF', 'CV_WALL', 'TK_IMPROAD_0', 'CV_IMPROAD_0', 'TK_IMPROAD_1', 'CV_IMPROAD_1', 'lat', 'lon']\n",
      "data loc: /glade/scratch/zhonghua/urban_params/urban_LE_random_split/eval/LR/CAM_surf_loc_021_2061_2070.parquet.gzip\n",
      "['FLNS', 'FSNS', 'PRECT', 'PRSN', 'QBOT', 'TREFHT', 'UBOT', 'VBOT', 'CANYON_HWR', 'EM_IMPROAD', 'EM_PERROAD', 'EM_ROOF', 'EM_WALL', 'HT_ROOF', 'THICK_ROOF', 'THICK_WALL', 'T_BUILDING_MAX', 'T_BUILDING_MIN', 'WTLUNIT_ROOF', 'WTROAD_PERV', 'NLEV_IMPROAD', 'PCT_URBAN', 'ALB_IMPROAD', 'ALB_PERROAD', 'ALB_ROOF', 'ALB_WALL', 'TK_ROOF', 'TK_WALL', 'CV_ROOF', 'CV_WALL', 'TK_IMPROAD_0', 'CV_IMPROAD_0', 'TK_IMPROAD_1', 'CV_IMPROAD_1', 'lat', 'lon']\n",
      "data loc: /glade/scratch/zhonghua/urban_params/urban_LE_random_split/eval/LR/CAM_surf_loc_022_2061_2070.parquet.gzip\n",
      "['FLNS', 'FSNS', 'PRECT', 'PRSN', 'QBOT', 'TREFHT', 'UBOT', 'VBOT', 'CANYON_HWR', 'EM_IMPROAD', 'EM_PERROAD', 'EM_ROOF', 'EM_WALL', 'HT_ROOF', 'THICK_ROOF', 'THICK_WALL', 'T_BUILDING_MAX', 'T_BUILDING_MIN', 'WTLUNIT_ROOF', 'WTROAD_PERV', 'NLEV_IMPROAD', 'PCT_URBAN', 'ALB_IMPROAD', 'ALB_PERROAD', 'ALB_ROOF', 'ALB_WALL', 'TK_ROOF', 'TK_WALL', 'CV_ROOF', 'CV_WALL', 'TK_IMPROAD_0', 'CV_IMPROAD_0', 'TK_IMPROAD_1', 'CV_IMPROAD_1', 'lat', 'lon']\n",
      "data loc: /glade/scratch/zhonghua/urban_params/urban_LE_random_split/eval/LR/CAM_surf_loc_023_2061_2070.parquet.gzip\n",
      "['FLNS', 'FSNS', 'PRECT', 'PRSN', 'QBOT', 'TREFHT', 'UBOT', 'VBOT', 'CANYON_HWR', 'EM_IMPROAD', 'EM_PERROAD', 'EM_ROOF', 'EM_WALL', 'HT_ROOF', 'THICK_ROOF', 'THICK_WALL', 'T_BUILDING_MAX', 'T_BUILDING_MIN', 'WTLUNIT_ROOF', 'WTROAD_PERV', 'NLEV_IMPROAD', 'PCT_URBAN', 'ALB_IMPROAD', 'ALB_PERROAD', 'ALB_ROOF', 'ALB_WALL', 'TK_ROOF', 'TK_WALL', 'CV_ROOF', 'CV_WALL', 'TK_IMPROAD_0', 'CV_IMPROAD_0', 'TK_IMPROAD_1', 'CV_IMPROAD_1', 'lat', 'lon']\n",
      "data loc: /glade/scratch/zhonghua/urban_params/urban_LE_random_split/eval/LR/CAM_surf_loc_024_2061_2070.parquet.gzip\n",
      "['FLNS', 'FSNS', 'PRECT', 'PRSN', 'QBOT', 'TREFHT', 'UBOT', 'VBOT', 'CANYON_HWR', 'EM_IMPROAD', 'EM_PERROAD', 'EM_ROOF', 'EM_WALL', 'HT_ROOF', 'THICK_ROOF', 'THICK_WALL', 'T_BUILDING_MAX', 'T_BUILDING_MIN', 'WTLUNIT_ROOF', 'WTROAD_PERV', 'NLEV_IMPROAD', 'PCT_URBAN', 'ALB_IMPROAD', 'ALB_PERROAD', 'ALB_ROOF', 'ALB_WALL', 'TK_ROOF', 'TK_WALL', 'CV_ROOF', 'CV_WALL', 'TK_IMPROAD_0', 'CV_IMPROAD_0', 'TK_IMPROAD_1', 'CV_IMPROAD_1', 'lat', 'lon']\n",
      "data loc: /glade/scratch/zhonghua/urban_params/urban_LE_random_split/eval/LR/CAM_surf_loc_025_2061_2070.parquet.gzip\n",
      "['FLNS', 'FSNS', 'PRECT', 'PRSN', 'QBOT', 'TREFHT', 'UBOT', 'VBOT', 'CANYON_HWR', 'EM_IMPROAD', 'EM_PERROAD', 'EM_ROOF', 'EM_WALL', 'HT_ROOF', 'THICK_ROOF', 'THICK_WALL', 'T_BUILDING_MAX', 'T_BUILDING_MIN', 'WTLUNIT_ROOF', 'WTROAD_PERV', 'NLEV_IMPROAD', 'PCT_URBAN', 'ALB_IMPROAD', 'ALB_PERROAD', 'ALB_ROOF', 'ALB_WALL', 'TK_ROOF', 'TK_WALL', 'CV_ROOF', 'CV_WALL', 'TK_IMPROAD_0', 'CV_IMPROAD_0', 'TK_IMPROAD_1', 'CV_IMPROAD_1', 'lat', 'lon']\n",
      "data loc: /glade/scratch/zhonghua/urban_params/urban_LE_random_split/eval/LR/CAM_surf_loc_026_2061_2070.parquet.gzip\n",
      "['FLNS', 'FSNS', 'PRECT', 'PRSN', 'QBOT', 'TREFHT', 'UBOT', 'VBOT', 'CANYON_HWR', 'EM_IMPROAD', 'EM_PERROAD', 'EM_ROOF', 'EM_WALL', 'HT_ROOF', 'THICK_ROOF', 'THICK_WALL', 'T_BUILDING_MAX', 'T_BUILDING_MIN', 'WTLUNIT_ROOF', 'WTROAD_PERV', 'NLEV_IMPROAD', 'PCT_URBAN', 'ALB_IMPROAD', 'ALB_PERROAD', 'ALB_ROOF', 'ALB_WALL', 'TK_ROOF', 'TK_WALL', 'CV_ROOF', 'CV_WALL', 'TK_IMPROAD_0', 'CV_IMPROAD_0', 'TK_IMPROAD_1', 'CV_IMPROAD_1', 'lat', 'lon']\n",
      "data loc: /glade/scratch/zhonghua/urban_params/urban_LE_random_split/eval/LR/CAM_surf_loc_027_2061_2070.parquet.gzip\n",
      "['FLNS', 'FSNS', 'PRECT', 'PRSN', 'QBOT', 'TREFHT', 'UBOT', 'VBOT', 'CANYON_HWR', 'EM_IMPROAD', 'EM_PERROAD', 'EM_ROOF', 'EM_WALL', 'HT_ROOF', 'THICK_ROOF', 'THICK_WALL', 'T_BUILDING_MAX', 'T_BUILDING_MIN', 'WTLUNIT_ROOF', 'WTROAD_PERV', 'NLEV_IMPROAD', 'PCT_URBAN', 'ALB_IMPROAD', 'ALB_PERROAD', 'ALB_ROOF', 'ALB_WALL', 'TK_ROOF', 'TK_WALL', 'CV_ROOF', 'CV_WALL', 'TK_IMPROAD_0', 'CV_IMPROAD_0', 'TK_IMPROAD_1', 'CV_IMPROAD_1', 'lat', 'lon']\n",
      "data loc: /glade/scratch/zhonghua/urban_params/urban_LE_random_split/eval/LR/CAM_surf_loc_028_2061_2070.parquet.gzip\n",
      "['FLNS', 'FSNS', 'PRECT', 'PRSN', 'QBOT', 'TREFHT', 'UBOT', 'VBOT', 'CANYON_HWR', 'EM_IMPROAD', 'EM_PERROAD', 'EM_ROOF', 'EM_WALL', 'HT_ROOF', 'THICK_ROOF', 'THICK_WALL', 'T_BUILDING_MAX', 'T_BUILDING_MIN', 'WTLUNIT_ROOF', 'WTROAD_PERV', 'NLEV_IMPROAD', 'PCT_URBAN', 'ALB_IMPROAD', 'ALB_PERROAD', 'ALB_ROOF', 'ALB_WALL', 'TK_ROOF', 'TK_WALL', 'CV_ROOF', 'CV_WALL', 'TK_IMPROAD_0', 'CV_IMPROAD_0', 'TK_IMPROAD_1', 'CV_IMPROAD_1', 'lat', 'lon']\n",
      "data loc: /glade/scratch/zhonghua/urban_params/urban_LE_random_split/eval/LR/CAM_surf_loc_029_2061_2070.parquet.gzip\n",
      "['FLNS', 'FSNS', 'PRECT', 'PRSN', 'QBOT', 'TREFHT', 'UBOT', 'VBOT', 'CANYON_HWR', 'EM_IMPROAD', 'EM_PERROAD', 'EM_ROOF', 'EM_WALL', 'HT_ROOF', 'THICK_ROOF', 'THICK_WALL', 'T_BUILDING_MAX', 'T_BUILDING_MIN', 'WTLUNIT_ROOF', 'WTROAD_PERV', 'NLEV_IMPROAD', 'PCT_URBAN', 'ALB_IMPROAD', 'ALB_PERROAD', 'ALB_ROOF', 'ALB_WALL', 'TK_ROOF', 'TK_WALL', 'CV_ROOF', 'CV_WALL', 'TK_IMPROAD_0', 'CV_IMPROAD_0', 'TK_IMPROAD_1', 'CV_IMPROAD_1', 'lat', 'lon']\n",
      "data loc: /glade/scratch/zhonghua/urban_params/urban_LE_random_split/eval/LR/CAM_surf_loc_030_2061_2070.parquet.gzip\n",
      "['FLNS', 'FSNS', 'PRECT', 'PRSN', 'QBOT', 'TREFHT', 'UBOT', 'VBOT', 'CANYON_HWR', 'EM_IMPROAD', 'EM_PERROAD', 'EM_ROOF', 'EM_WALL', 'HT_ROOF', 'THICK_ROOF', 'THICK_WALL', 'T_BUILDING_MAX', 'T_BUILDING_MIN', 'WTLUNIT_ROOF', 'WTROAD_PERV', 'NLEV_IMPROAD', 'PCT_URBAN', 'ALB_IMPROAD', 'ALB_PERROAD', 'ALB_ROOF', 'ALB_WALL', 'TK_ROOF', 'TK_WALL', 'CV_ROOF', 'CV_WALL', 'TK_IMPROAD_0', 'CV_IMPROAD_0', 'TK_IMPROAD_1', 'CV_IMPROAD_1', 'lat', 'lon']\n",
      "data loc: /glade/scratch/zhonghua/urban_params/urban_LE_random_split/eval/LR/CAM_surf_loc_031_2061_2070.parquet.gzip\n",
      "['FLNS', 'FSNS', 'PRECT', 'PRSN', 'QBOT', 'TREFHT', 'UBOT', 'VBOT', 'CANYON_HWR', 'EM_IMPROAD', 'EM_PERROAD', 'EM_ROOF', 'EM_WALL', 'HT_ROOF', 'THICK_ROOF', 'THICK_WALL', 'T_BUILDING_MAX', 'T_BUILDING_MIN', 'WTLUNIT_ROOF', 'WTROAD_PERV', 'NLEV_IMPROAD', 'PCT_URBAN', 'ALB_IMPROAD', 'ALB_PERROAD', 'ALB_ROOF', 'ALB_WALL', 'TK_ROOF', 'TK_WALL', 'CV_ROOF', 'CV_WALL', 'TK_IMPROAD_0', 'CV_IMPROAD_0', 'TK_IMPROAD_1', 'CV_IMPROAD_1', 'lat', 'lon']\n"
     ]
    },
    {
     "name": "stdout",
     "output_type": "stream",
     "text": [
      "data loc: /glade/scratch/zhonghua/urban_params/urban_LE_random_split/eval/LR/CAM_surf_loc_032_2061_2070.parquet.gzip\n",
      "['FLNS', 'FSNS', 'PRECT', 'PRSN', 'QBOT', 'TREFHT', 'UBOT', 'VBOT', 'CANYON_HWR', 'EM_IMPROAD', 'EM_PERROAD', 'EM_ROOF', 'EM_WALL', 'HT_ROOF', 'THICK_ROOF', 'THICK_WALL', 'T_BUILDING_MAX', 'T_BUILDING_MIN', 'WTLUNIT_ROOF', 'WTROAD_PERV', 'NLEV_IMPROAD', 'PCT_URBAN', 'ALB_IMPROAD', 'ALB_PERROAD', 'ALB_ROOF', 'ALB_WALL', 'TK_ROOF', 'TK_WALL', 'CV_ROOF', 'CV_WALL', 'TK_IMPROAD_0', 'CV_IMPROAD_0', 'TK_IMPROAD_1', 'CV_IMPROAD_1', 'lat', 'lon']\n",
      "data loc: /glade/scratch/zhonghua/urban_params/urban_LE_random_split/eval/LR/CAM_surf_loc_033_2061_2070.parquet.gzip\n",
      "CPU times: user 24min 42s, sys: 7min 33s, total: 32min 15s\n",
      "Wall time: 32min 57s\n"
     ]
    }
   ],
   "source": [
    "%%time\n",
    "\n",
    "start_year = \"2061\"\n",
    "end_year = \"2070\"\n",
    "for member_id in range(int(\"003\"), int(\"034\")):\n",
    "    member = (str(member_id).zfill(3))\n",
    "    get_pred(start_year, end_year, model_name, member, urban_LE_nc_path, parquet_save_path, reg)"
   ]
  },
  {
   "cell_type": "code",
   "execution_count": null,
   "id": "78c808a3",
   "metadata": {},
   "outputs": [],
   "source": [
    "\"\"\" # evaluate\n",
    "df_load = pd.read_parquet(parquet_save_path + \"eval/\" + model_name + \"/CAM_surf_loc_\"\\\n",
    "               + member + \"_\" + start_year + \"_\" + end_year + \".parquet.gzip\", engine=\"pyarrow\")\n",
    "print(\"root mean square error:\", \n",
    "      mean_squared_error(y_true=df_load[\"TREFMXAV_U\"], y_pred=df_load[\"y_pred\"], squared=False))\n",
    "print(\"mean_absolute_error:\", mean_absolute_error(y_true=df_load[\"TREFMXAV_U\"], y_pred=df_load[\"y_pred\"]))\n",
    "print(\"r2:\", r2_score(y_true=df_load[\"TREFMXAV_U\"], y_pred=df_load[\"y_pred\"]))\n",
    "\"\"\""
   ]
  },
  {
   "cell_type": "markdown",
   "id": "5b6da686",
   "metadata": {},
   "source": [
    "## CAM only"
   ]
  },
  {
   "cell_type": "code",
   "execution_count": 4,
   "id": "1e4b77fe",
   "metadata": {},
   "outputs": [
    {
     "name": "stdout",
     "output_type": "stream",
     "text": [
      "model performance using training data:\n",
      "root mean square error: 1.9204677760824942\n",
      "mean_absolute_error: 1.479741595960286\n",
      "r2: 0.9678758355698566\n",
      "['FLNS', 'FSNS', 'PRECT', 'PRSN', 'QBOT', 'TREFHT', 'UBOT', 'VBOT']\n",
      "data loc: /glade/scratch/zhonghua/urban_params/urban_LE_random_split/eval/LR/CAM_003_2061_2070.parquet.gzip\n",
      "['FLNS', 'FSNS', 'PRECT', 'PRSN', 'QBOT', 'TREFHT', 'UBOT', 'VBOT']\n",
      "data loc: /glade/scratch/zhonghua/urban_params/urban_LE_random_split/eval/LR/CAM_004_2061_2070.parquet.gzip\n",
      "['FLNS', 'FSNS', 'PRECT', 'PRSN', 'QBOT', 'TREFHT', 'UBOT', 'VBOT']\n",
      "data loc: /glade/scratch/zhonghua/urban_params/urban_LE_random_split/eval/LR/CAM_005_2061_2070.parquet.gzip\n",
      "['FLNS', 'FSNS', 'PRECT', 'PRSN', 'QBOT', 'TREFHT', 'UBOT', 'VBOT']\n",
      "data loc: /glade/scratch/zhonghua/urban_params/urban_LE_random_split/eval/LR/CAM_006_2061_2070.parquet.gzip\n",
      "['FLNS', 'FSNS', 'PRECT', 'PRSN', 'QBOT', 'TREFHT', 'UBOT', 'VBOT']\n",
      "data loc: /glade/scratch/zhonghua/urban_params/urban_LE_random_split/eval/LR/CAM_007_2061_2070.parquet.gzip\n",
      "['FLNS', 'FSNS', 'PRECT', 'PRSN', 'QBOT', 'TREFHT', 'UBOT', 'VBOT']\n",
      "data loc: /glade/scratch/zhonghua/urban_params/urban_LE_random_split/eval/LR/CAM_008_2061_2070.parquet.gzip\n",
      "['FLNS', 'FSNS', 'PRECT', 'PRSN', 'QBOT', 'TREFHT', 'UBOT', 'VBOT']\n",
      "data loc: /glade/scratch/zhonghua/urban_params/urban_LE_random_split/eval/LR/CAM_009_2061_2070.parquet.gzip\n",
      "['FLNS', 'FSNS', 'PRECT', 'PRSN', 'QBOT', 'TREFHT', 'UBOT', 'VBOT']\n",
      "data loc: /glade/scratch/zhonghua/urban_params/urban_LE_random_split/eval/LR/CAM_010_2061_2070.parquet.gzip\n",
      "['FLNS', 'FSNS', 'PRECT', 'PRSN', 'QBOT', 'TREFHT', 'UBOT', 'VBOT']\n",
      "data loc: /glade/scratch/zhonghua/urban_params/urban_LE_random_split/eval/LR/CAM_011_2061_2070.parquet.gzip\n",
      "['FLNS', 'FSNS', 'PRECT', 'PRSN', 'QBOT', 'TREFHT', 'UBOT', 'VBOT']\n",
      "data loc: /glade/scratch/zhonghua/urban_params/urban_LE_random_split/eval/LR/CAM_012_2061_2070.parquet.gzip\n",
      "['FLNS', 'FSNS', 'PRECT', 'PRSN', 'QBOT', 'TREFHT', 'UBOT', 'VBOT']\n",
      "data loc: /glade/scratch/zhonghua/urban_params/urban_LE_random_split/eval/LR/CAM_013_2061_2070.parquet.gzip\n",
      "['FLNS', 'FSNS', 'PRECT', 'PRSN', 'QBOT', 'TREFHT', 'UBOT', 'VBOT']\n",
      "data loc: /glade/scratch/zhonghua/urban_params/urban_LE_random_split/eval/LR/CAM_014_2061_2070.parquet.gzip\n",
      "['FLNS', 'FSNS', 'PRECT', 'PRSN', 'QBOT', 'TREFHT', 'UBOT', 'VBOT']\n",
      "data loc: /glade/scratch/zhonghua/urban_params/urban_LE_random_split/eval/LR/CAM_015_2061_2070.parquet.gzip\n",
      "['FLNS', 'FSNS', 'PRECT', 'PRSN', 'QBOT', 'TREFHT', 'UBOT', 'VBOT']\n",
      "data loc: /glade/scratch/zhonghua/urban_params/urban_LE_random_split/eval/LR/CAM_016_2061_2070.parquet.gzip\n",
      "['FLNS', 'FSNS', 'PRECT', 'PRSN', 'QBOT', 'TREFHT', 'UBOT', 'VBOT']\n",
      "data loc: /glade/scratch/zhonghua/urban_params/urban_LE_random_split/eval/LR/CAM_017_2061_2070.parquet.gzip\n",
      "['FLNS', 'FSNS', 'PRECT', 'PRSN', 'QBOT', 'TREFHT', 'UBOT', 'VBOT']\n",
      "data loc: /glade/scratch/zhonghua/urban_params/urban_LE_random_split/eval/LR/CAM_018_2061_2070.parquet.gzip\n",
      "['FLNS', 'FSNS', 'PRECT', 'PRSN', 'QBOT', 'TREFHT', 'UBOT', 'VBOT']\n",
      "data loc: /glade/scratch/zhonghua/urban_params/urban_LE_random_split/eval/LR/CAM_019_2061_2070.parquet.gzip\n",
      "['FLNS', 'FSNS', 'PRECT', 'PRSN', 'QBOT', 'TREFHT', 'UBOT', 'VBOT']\n",
      "data loc: /glade/scratch/zhonghua/urban_params/urban_LE_random_split/eval/LR/CAM_020_2061_2070.parquet.gzip\n",
      "['FLNS', 'FSNS', 'PRECT', 'PRSN', 'QBOT', 'TREFHT', 'UBOT', 'VBOT']\n",
      "data loc: /glade/scratch/zhonghua/urban_params/urban_LE_random_split/eval/LR/CAM_021_2061_2070.parquet.gzip\n",
      "['FLNS', 'FSNS', 'PRECT', 'PRSN', 'QBOT', 'TREFHT', 'UBOT', 'VBOT']\n",
      "data loc: /glade/scratch/zhonghua/urban_params/urban_LE_random_split/eval/LR/CAM_022_2061_2070.parquet.gzip\n",
      "['FLNS', 'FSNS', 'PRECT', 'PRSN', 'QBOT', 'TREFHT', 'UBOT', 'VBOT']\n",
      "data loc: /glade/scratch/zhonghua/urban_params/urban_LE_random_split/eval/LR/CAM_023_2061_2070.parquet.gzip\n",
      "['FLNS', 'FSNS', 'PRECT', 'PRSN', 'QBOT', 'TREFHT', 'UBOT', 'VBOT']\n",
      "data loc: /glade/scratch/zhonghua/urban_params/urban_LE_random_split/eval/LR/CAM_024_2061_2070.parquet.gzip\n",
      "['FLNS', 'FSNS', 'PRECT', 'PRSN', 'QBOT', 'TREFHT', 'UBOT', 'VBOT']\n",
      "data loc: /glade/scratch/zhonghua/urban_params/urban_LE_random_split/eval/LR/CAM_025_2061_2070.parquet.gzip\n",
      "['FLNS', 'FSNS', 'PRECT', 'PRSN', 'QBOT', 'TREFHT', 'UBOT', 'VBOT']\n",
      "data loc: /glade/scratch/zhonghua/urban_params/urban_LE_random_split/eval/LR/CAM_026_2061_2070.parquet.gzip\n",
      "['FLNS', 'FSNS', 'PRECT', 'PRSN', 'QBOT', 'TREFHT', 'UBOT', 'VBOT']\n",
      "data loc: /glade/scratch/zhonghua/urban_params/urban_LE_random_split/eval/LR/CAM_027_2061_2070.parquet.gzip\n",
      "['FLNS', 'FSNS', 'PRECT', 'PRSN', 'QBOT', 'TREFHT', 'UBOT', 'VBOT']\n",
      "data loc: /glade/scratch/zhonghua/urban_params/urban_LE_random_split/eval/LR/CAM_028_2061_2070.parquet.gzip\n",
      "['FLNS', 'FSNS', 'PRECT', 'PRSN', 'QBOT', 'TREFHT', 'UBOT', 'VBOT']\n",
      "data loc: /glade/scratch/zhonghua/urban_params/urban_LE_random_split/eval/LR/CAM_029_2061_2070.parquet.gzip\n",
      "['FLNS', 'FSNS', 'PRECT', 'PRSN', 'QBOT', 'TREFHT', 'UBOT', 'VBOT']\n",
      "data loc: /glade/scratch/zhonghua/urban_params/urban_LE_random_split/eval/LR/CAM_030_2061_2070.parquet.gzip\n",
      "['FLNS', 'FSNS', 'PRECT', 'PRSN', 'QBOT', 'TREFHT', 'UBOT', 'VBOT']\n",
      "data loc: /glade/scratch/zhonghua/urban_params/urban_LE_random_split/eval/LR/CAM_031_2061_2070.parquet.gzip\n",
      "['FLNS', 'FSNS', 'PRECT', 'PRSN', 'QBOT', 'TREFHT', 'UBOT', 'VBOT']\n",
      "data loc: /glade/scratch/zhonghua/urban_params/urban_LE_random_split/eval/LR/CAM_032_2061_2070.parquet.gzip\n",
      "['FLNS', 'FSNS', 'PRECT', 'PRSN', 'QBOT', 'TREFHT', 'UBOT', 'VBOT']\n",
      "data loc: /glade/scratch/zhonghua/urban_params/urban_LE_random_split/eval/LR/CAM_033_2061_2070.parquet.gzip\n",
      "CPU times: user 21min 26s, sys: 6min 5s, total: 27min 32s\n",
      "Wall time: 28min 8s\n"
     ]
    }
   ],
   "source": [
    "%%time\n",
    "feature_ls = fd[\"CAM\"]\n",
    "\n",
    "X_ori = df[feature_ls]\n",
    "y = df[fd[\"label\"]]\n",
    "\n",
    "scaler = StandardScaler()\n",
    "scaler.fit(X_ori)\n",
    "X_scaler = scaler.transform(X_ori)\n",
    "\n",
    "X = sm.add_constant(X_scaler)\n",
    "reg = sm.OLS(y, X).fit()\n",
    "\n",
    "# ======== trianing performance ========\n",
    "print(\"model performance using training data:\")\n",
    "y_pred = reg.predict(X)\n",
    "print(\"root mean square error:\", \n",
    "      mean_squared_error(y_true=y, y_pred=y_pred, squared=False))\n",
    "print(\"mean_absolute_error:\", mean_absolute_error(y_true=y, y_pred=y_pred))\n",
    "print(\"r2:\", r2_score(y_true=y, y_pred=y_pred))\n",
    "\n",
    "def get_test_data(member, start_year, end_year, urban_LE_nc_path, parquet_save_path):\n",
    "    # convert the time to datetime format\n",
    "    ds_urban_LE = xr.open_dataset(urban_LE_nc_path+member+\"_\"+start_year+\"_\"+end_year+\".nc\")\n",
    "    ds_urban_LE = ds_urban_LE.assign_coords(time = ds_urban_LE.indexes['time'].to_datetimeindex())\n",
    "    df = ds_urban_LE.to_dataframe()\n",
    "    \n",
    "    df_train = pd.read_parquet(parquet_save_path + \"train/\" + member + \"_\"\\\n",
    "                               + start_year + \"_\" + end_year + \".parquet.gzip\", engine=\"fastparquet\")  \n",
    "    \n",
    "    del ds_urban_LE\n",
    "    gc.collect()\n",
    "    \n",
    "    # remove missing value based on urban temperature\n",
    "    df_final = df[~np.isnan(df[\"TREFMXAV_U\"])].reset_index()\n",
    "    df_final[\"member\"] = member\n",
    "    \n",
    "    # get testing data based on the saved training data\n",
    "    df_test = df_final.drop(df_train.index)\n",
    "    return df_test\n",
    "\n",
    "def get_pred(start_year, end_year, model_name, member, urban_LE_nc_path, parquet_save_path, reg):\n",
    "    # ====== get data =======\n",
    "    df_test = get_test_data(member, start_year, end_year, urban_LE_nc_path, parquet_save_path)\n",
    "    urban_surf = pd.read_parquet(urban_surf_path, engine=\"fastparquet\").reset_index()\n",
    "    test = pd.merge(df_test, urban_surf, on = [\"lat\",\"lon\"], how = \"inner\")\n",
    "    assert df_test.shape[0] == test.shape[0] #check if we merged successfully\n",
    "    del df_test, urban_surf\n",
    "    gc.collect()\n",
    "    # ====== pred and save=======\n",
    "    print(feature_ls)\n",
    "    \n",
    "    X_test_scaler = scaler.transform(test[feature_ls])\n",
    "    X_test = sm.add_constant(X_test_scaler)\n",
    "    \n",
    "    test[\"y_pred\"] = reg.predict(X_test)\n",
    "    pred_save_loc = parquet_save_path + \"eval/\" + model_name + \"/CAM_\"\\\n",
    "               + member + \"_\" + start_year + \"_\" + end_year + \".parquet.gzip\"\n",
    "    print(\"data loc:\",pred_save_loc)\n",
    "    test[[\"time\",\"lat\",\"lon\",\"TREFMXAV_U\",\"y_pred\"]].to_parquet(pred_save_loc,\n",
    "                                                                compression=\"gzip\", engine=\"pyarrow\")\n",
    "start_year = \"2061\"\n",
    "end_year = \"2070\"\n",
    "for member_id in range(int(\"003\"), int(\"034\")):\n",
    "    member = (str(member_id).zfill(3))\n",
    "    get_pred(start_year, end_year, model_name, member, urban_LE_nc_path, parquet_save_path, reg)"
   ]
  }
 ],
 "metadata": {
  "kernelspec": {
   "display_name": "Python 3 (ipykernel)",
   "language": "python",
   "name": "python3"
  },
  "language_info": {
   "codemirror_mode": {
    "name": "ipython",
    "version": 3
   },
   "file_extension": ".py",
   "mimetype": "text/x-python",
   "name": "python",
   "nbconvert_exporter": "python",
   "pygments_lexer": "ipython3",
   "version": "3.8.0"
  }
 },
 "nbformat": 4,
 "nbformat_minor": 5
}
