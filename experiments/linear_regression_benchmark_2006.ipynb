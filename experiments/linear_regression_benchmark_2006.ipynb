{
 "cells": [
  {
   "cell_type": "markdown",
   "id": "26428aeb",
   "metadata": {},
   "source": [
    "This script is used for:\n",
    "- training a model based on linear regression\n",
    "\n",
    "**How to launch this Jupyter notebook**:   \n",
    "```bash\n",
    "execcasper -A your_project -l gpu_type=v100 -l walltime=06:00:00 -l select=1:ncpus=18:mpiprocs=36:ngpus=1:mem=300GB\n",
    "bash aws_urban_env.sh\n",
    "```"
   ]
  },
  {
   "cell_type": "code",
   "execution_count": 1,
   "id": "e964ec3f",
   "metadata": {},
   "outputs": [],
   "source": [
    "import warnings\n",
    "warnings.filterwarnings('ignore')\n",
    "\n",
    "import pandas as pd\n",
    "import numpy as np\n",
    "import xarray as xr\n",
    "import gc\n",
    "from tqdm import tqdm\n",
    "from sklearn.metrics import mean_squared_error, r2_score, mean_absolute_error\n",
    "from sklearn.preprocessing import StandardScaler\n",
    "import joblib\n",
    "import statsmodels.api as sm\n",
    "\n",
    "start_year = \"2006\"\n",
    "end_year = \"2015\"\n",
    "urban_LE_nc_path = \"/glade/scratch/zhonghua/urban_params/urban_LE/\"\n",
    "parquet_save_path = \"/glade/scratch/zhonghua/urban_params/urban_LE_random_split/\"\n",
    "urban_surf_path = \"/glade/scratch/zhonghua/urban_params/urban_surface.parquet.gzip\"\n",
    "model_name = \"LR\""
   ]
  },
  {
   "cell_type": "code",
   "execution_count": 2,
   "id": "b5d63f1b",
   "metadata": {},
   "outputs": [
    {
     "name": "stderr",
     "output_type": "stream",
     "text": [
      "100%|███████████████████████████████████████████| 31/31 [00:10<00:00,  3.00it/s]\n"
     ]
    }
   ],
   "source": [
    "fd = {\n",
    "    \"label\":\"TREFMXAV_U\",\n",
    "    \"CAM\": ['FLNS','FSNS','PRECT','PRSN','QBOT','TREFHT','UBOT','VBOT'],\n",
    "    \"surf\":['CANYON_HWR','EM_IMPROAD','EM_PERROAD','EM_ROOF','EM_WALL', \n",
    "            'HT_ROOF','THICK_ROOF','THICK_WALL','T_BUILDING_MAX','T_BUILDING_MIN',\n",
    "            'WTLUNIT_ROOF','WTROAD_PERV','NLEV_IMPROAD','PCT_URBAN',\n",
    "            'ALB_IMPROAD','ALB_PERROAD','ALB_ROOF','ALB_WALL',\n",
    "            'TK_ROOF','TK_WALL','CV_ROOF','CV_WALL',\n",
    "            'TK_IMPROAD_0','CV_IMPROAD_0','TK_IMPROAD_1','CV_IMPROAD_1'],\n",
    "    \"loc\":[\"lat\",\"lon\"]\n",
    "}\n",
    "\n",
    "def get_merge_member(start_year, end_year, parquet_save_path):\n",
    "    df_tmp_ls = []\n",
    "    for member_id in tqdm(range(3, 34)):\n",
    "        member = (str(member_id).zfill(3))\n",
    "        df_tmp_ls.append(pd.read_parquet(parquet_save_path + \"train/\" + member + \"_\"\\\n",
    "                            + start_year + \"_\" + end_year + \".parquet.gzip\", engine=\"fastparquet\"))\n",
    "    return pd.concat(df_tmp_ls)\n",
    "\n",
    "# load data\n",
    "urban_LE = get_merge_member(start_year, end_year, parquet_save_path)\n",
    "urban_surf = pd.read_parquet(urban_surf_path, engine=\"fastparquet\").reset_index()"
   ]
  },
  {
   "cell_type": "code",
   "execution_count": 3,
   "id": "ececcaa7",
   "metadata": {},
   "outputs": [
    {
     "name": "stdout",
     "output_type": "stream",
     "text": [
      "CPU times: user 6.64 s, sys: 1.82 s, total: 8.46 s\n",
      "Wall time: 8.45 s\n"
     ]
    },
    {
     "data": {
      "text/plain": [
       "21"
      ]
     },
     "execution_count": 3,
     "metadata": {},
     "output_type": "execute_result"
    }
   ],
   "source": [
    "%%time\n",
    "# merge data\n",
    "df = pd.merge(urban_LE, urban_surf, on = [\"lat\",\"lon\"], how = \"inner\")\n",
    "# check if we merge the data successfully\n",
    "assert urban_LE.shape[0] == df.shape[0]\n",
    "\n",
    "del urban_LE, urban_surf\n",
    "gc.collect()"
   ]
  },
  {
   "cell_type": "markdown",
   "id": "14c3f521",
   "metadata": {},
   "source": [
    "## CAM + surf + loc"
   ]
  },
  {
   "cell_type": "code",
   "execution_count": 4,
   "id": "ac63d780",
   "metadata": {},
   "outputs": [
    {
     "name": "stdout",
     "output_type": "stream",
     "text": [
      "model performance using training data:\n",
      "root mean square error: 1.8990062595561652\n",
      "mean_absolute_error: 1.4601806329528033\n",
      "r2: 0.9696765004797875\n",
      "CPU times: user 1min 16s, sys: 12 s, total: 1min 28s\n",
      "Wall time: 1min 28s\n"
     ]
    }
   ],
   "source": [
    "%%time\n",
    "feature_ls = fd[\"CAM\"]+fd[\"surf\"]+fd[\"loc\"]\n",
    "\n",
    "X_ori = df[feature_ls]\n",
    "y = df[fd[\"label\"]]\n",
    "\n",
    "scaler = StandardScaler()\n",
    "scaler.fit(X_ori)\n",
    "X_scaler = scaler.transform(X_ori)\n",
    "\n",
    "X = sm.add_constant(X_scaler)\n",
    "reg = sm.OLS(y, X).fit()\n",
    "\n",
    "# ======== trianing performance ========\n",
    "print(\"model performance using training data:\")\n",
    "y_pred = reg.predict(X)\n",
    "print(\"root mean square error:\", \n",
    "      mean_squared_error(y_true=y, y_pred=y_pred, squared=False))\n",
    "print(\"mean_absolute_error:\", mean_absolute_error(y_true=y, y_pred=y_pred))\n",
    "print(\"r2:\", r2_score(y_true=y, y_pred=y_pred))"
   ]
  },
  {
   "cell_type": "code",
   "execution_count": 5,
   "id": "edeb0ae1",
   "metadata": {},
   "outputs": [],
   "source": [
    "def get_test_data(member, start_year, end_year, urban_LE_nc_path, parquet_save_path):\n",
    "    # convert the time to datetime format\n",
    "    ds_urban_LE = xr.open_dataset(urban_LE_nc_path+member+\"_\"+start_year+\"_\"+end_year+\".nc\")\n",
    "    ds_urban_LE = ds_urban_LE.assign_coords(time = ds_urban_LE.indexes['time'].to_datetimeindex())\n",
    "    df = ds_urban_LE.to_dataframe()\n",
    "    \n",
    "    df_train = pd.read_parquet(parquet_save_path + \"train/\" + member + \"_\"\\\n",
    "                               + start_year + \"_\" + end_year + \".parquet.gzip\", engine=\"fastparquet\")  \n",
    "    \n",
    "    del ds_urban_LE\n",
    "    gc.collect()\n",
    "    \n",
    "    # remove missing value based on urban temperature\n",
    "    df_final = df[~np.isnan(df[\"TREFMXAV_U\"])].reset_index()\n",
    "    df_final[\"member\"] = member\n",
    "    \n",
    "    # get testing data based on the saved training data\n",
    "    df_test = df_final.drop(df_train.index)\n",
    "    return df_test\n",
    "\n",
    "def get_pred(start_year, end_year, model_name, member, urban_LE_nc_path, parquet_save_path, reg):\n",
    "    # ====== get data =======\n",
    "    df_test = get_test_data(member, start_year, end_year, urban_LE_nc_path, parquet_save_path)\n",
    "    urban_surf = pd.read_parquet(urban_surf_path, engine=\"fastparquet\").reset_index()\n",
    "    test = pd.merge(df_test, urban_surf, on = [\"lat\",\"lon\"], how = \"inner\")\n",
    "    assert df_test.shape[0] == test.shape[0] #check if we merged successfully\n",
    "    del df_test, urban_surf\n",
    "    gc.collect()\n",
    "    # ====== pred and save=======\n",
    "    print(feature_ls)\n",
    "    \n",
    "    X_test_scaler = scaler.transform(test[feature_ls])\n",
    "    X_test = sm.add_constant(X_test_scaler)\n",
    "    \n",
    "    test[\"y_pred\"] = reg.predict(X_test)\n",
    "    pred_save_loc = parquet_save_path + \"eval/\" + model_name + \"/CAM_surf_loc_\"\\\n",
    "               + member + \"_\" + start_year + \"_\" + end_year + \".parquet.gzip\"\n",
    "    print(\"data loc:\",pred_save_loc)\n",
    "    test[[\"time\",\"lat\",\"lon\",\"TREFMXAV_U\",\"y_pred\"]].to_parquet(pred_save_loc,\n",
    "                                                                compression=\"gzip\", engine=\"pyarrow\")"
   ]
  },
  {
   "cell_type": "code",
   "execution_count": null,
   "id": "d4980e7d",
   "metadata": {},
   "outputs": [],
   "source": [
    "%%time\n",
    "\n",
    "start_year = \"2006\"\n",
    "end_year = \"2015\"\n",
    "for member_id in range(int(\"003\"), int(\"034\")):\n",
    "    member = (str(member_id).zfill(3))\n",
    "    get_pred(start_year, end_year, model_name, member, urban_LE_nc_path, parquet_save_path, reg)"
   ]
  },
  {
   "cell_type": "code",
   "execution_count": null,
   "id": "78c808a3",
   "metadata": {},
   "outputs": [],
   "source": [
    "\"\"\" # evaluate\n",
    "df_load = pd.read_parquet(parquet_save_path + \"eval/\" + model_name + \"/CAM_surf_loc_\"\\\n",
    "               + member + \"_\" + start_year + \"_\" + end_year + \".parquet.gzip\", engine=\"pyarrow\")\n",
    "print(\"root mean square error:\", \n",
    "      mean_squared_error(y_true=df_load[\"TREFMXAV_U\"], y_pred=df_load[\"y_pred\"], squared=False))\n",
    "print(\"mean_absolute_error:\", mean_absolute_error(y_true=df_load[\"TREFMXAV_U\"], y_pred=df_load[\"y_pred\"]))\n",
    "print(\"r2:\", r2_score(y_true=df_load[\"TREFMXAV_U\"], y_pred=df_load[\"y_pred\"]))\n",
    "\"\"\""
   ]
  },
  {
   "cell_type": "markdown",
   "id": "2f6b72c1",
   "metadata": {},
   "source": [
    "## CAM only"
   ]
  },
  {
   "cell_type": "code",
   "execution_count": 4,
   "id": "f2ba74c7",
   "metadata": {},
   "outputs": [
    {
     "name": "stdout",
     "output_type": "stream",
     "text": [
      "model performance using training data:\n",
      "root mean square error: 1.930452790294261\n",
      "mean_absolute_error: 1.4797408730962052\n",
      "r2: 0.9686639033377242\n",
      "['FLNS', 'FSNS', 'PRECT', 'PRSN', 'QBOT', 'TREFHT', 'UBOT', 'VBOT']\n",
      "data loc: /glade/scratch/zhonghua/urban_params/urban_LE_random_split/eval/LR/CAM_003_2006_2015.parquet.gzip\n",
      "['FLNS', 'FSNS', 'PRECT', 'PRSN', 'QBOT', 'TREFHT', 'UBOT', 'VBOT']\n",
      "data loc: /glade/scratch/zhonghua/urban_params/urban_LE_random_split/eval/LR/CAM_004_2006_2015.parquet.gzip\n",
      "['FLNS', 'FSNS', 'PRECT', 'PRSN', 'QBOT', 'TREFHT', 'UBOT', 'VBOT']\n",
      "data loc: /glade/scratch/zhonghua/urban_params/urban_LE_random_split/eval/LR/CAM_005_2006_2015.parquet.gzip\n",
      "['FLNS', 'FSNS', 'PRECT', 'PRSN', 'QBOT', 'TREFHT', 'UBOT', 'VBOT']\n",
      "data loc: /glade/scratch/zhonghua/urban_params/urban_LE_random_split/eval/LR/CAM_006_2006_2015.parquet.gzip\n",
      "['FLNS', 'FSNS', 'PRECT', 'PRSN', 'QBOT', 'TREFHT', 'UBOT', 'VBOT']\n",
      "data loc: /glade/scratch/zhonghua/urban_params/urban_LE_random_split/eval/LR/CAM_007_2006_2015.parquet.gzip\n",
      "['FLNS', 'FSNS', 'PRECT', 'PRSN', 'QBOT', 'TREFHT', 'UBOT', 'VBOT']\n",
      "data loc: /glade/scratch/zhonghua/urban_params/urban_LE_random_split/eval/LR/CAM_008_2006_2015.parquet.gzip\n",
      "['FLNS', 'FSNS', 'PRECT', 'PRSN', 'QBOT', 'TREFHT', 'UBOT', 'VBOT']\n",
      "data loc: /glade/scratch/zhonghua/urban_params/urban_LE_random_split/eval/LR/CAM_009_2006_2015.parquet.gzip\n",
      "['FLNS', 'FSNS', 'PRECT', 'PRSN', 'QBOT', 'TREFHT', 'UBOT', 'VBOT']\n",
      "data loc: /glade/scratch/zhonghua/urban_params/urban_LE_random_split/eval/LR/CAM_010_2006_2015.parquet.gzip\n",
      "['FLNS', 'FSNS', 'PRECT', 'PRSN', 'QBOT', 'TREFHT', 'UBOT', 'VBOT']\n",
      "data loc: /glade/scratch/zhonghua/urban_params/urban_LE_random_split/eval/LR/CAM_011_2006_2015.parquet.gzip\n",
      "['FLNS', 'FSNS', 'PRECT', 'PRSN', 'QBOT', 'TREFHT', 'UBOT', 'VBOT']\n",
      "data loc: /glade/scratch/zhonghua/urban_params/urban_LE_random_split/eval/LR/CAM_012_2006_2015.parquet.gzip\n",
      "['FLNS', 'FSNS', 'PRECT', 'PRSN', 'QBOT', 'TREFHT', 'UBOT', 'VBOT']\n",
      "data loc: /glade/scratch/zhonghua/urban_params/urban_LE_random_split/eval/LR/CAM_013_2006_2015.parquet.gzip\n",
      "['FLNS', 'FSNS', 'PRECT', 'PRSN', 'QBOT', 'TREFHT', 'UBOT', 'VBOT']\n",
      "data loc: /glade/scratch/zhonghua/urban_params/urban_LE_random_split/eval/LR/CAM_014_2006_2015.parquet.gzip\n",
      "['FLNS', 'FSNS', 'PRECT', 'PRSN', 'QBOT', 'TREFHT', 'UBOT', 'VBOT']\n",
      "data loc: /glade/scratch/zhonghua/urban_params/urban_LE_random_split/eval/LR/CAM_015_2006_2015.parquet.gzip\n",
      "['FLNS', 'FSNS', 'PRECT', 'PRSN', 'QBOT', 'TREFHT', 'UBOT', 'VBOT']\n",
      "data loc: /glade/scratch/zhonghua/urban_params/urban_LE_random_split/eval/LR/CAM_016_2006_2015.parquet.gzip\n",
      "['FLNS', 'FSNS', 'PRECT', 'PRSN', 'QBOT', 'TREFHT', 'UBOT', 'VBOT']\n",
      "data loc: /glade/scratch/zhonghua/urban_params/urban_LE_random_split/eval/LR/CAM_017_2006_2015.parquet.gzip\n",
      "['FLNS', 'FSNS', 'PRECT', 'PRSN', 'QBOT', 'TREFHT', 'UBOT', 'VBOT']\n",
      "data loc: /glade/scratch/zhonghua/urban_params/urban_LE_random_split/eval/LR/CAM_018_2006_2015.parquet.gzip\n",
      "['FLNS', 'FSNS', 'PRECT', 'PRSN', 'QBOT', 'TREFHT', 'UBOT', 'VBOT']\n",
      "data loc: /glade/scratch/zhonghua/urban_params/urban_LE_random_split/eval/LR/CAM_019_2006_2015.parquet.gzip\n",
      "['FLNS', 'FSNS', 'PRECT', 'PRSN', 'QBOT', 'TREFHT', 'UBOT', 'VBOT']\n",
      "data loc: /glade/scratch/zhonghua/urban_params/urban_LE_random_split/eval/LR/CAM_020_2006_2015.parquet.gzip\n",
      "['FLNS', 'FSNS', 'PRECT', 'PRSN', 'QBOT', 'TREFHT', 'UBOT', 'VBOT']\n",
      "data loc: /glade/scratch/zhonghua/urban_params/urban_LE_random_split/eval/LR/CAM_021_2006_2015.parquet.gzip\n",
      "['FLNS', 'FSNS', 'PRECT', 'PRSN', 'QBOT', 'TREFHT', 'UBOT', 'VBOT']\n",
      "data loc: /glade/scratch/zhonghua/urban_params/urban_LE_random_split/eval/LR/CAM_022_2006_2015.parquet.gzip\n",
      "['FLNS', 'FSNS', 'PRECT', 'PRSN', 'QBOT', 'TREFHT', 'UBOT', 'VBOT']\n",
      "data loc: /glade/scratch/zhonghua/urban_params/urban_LE_random_split/eval/LR/CAM_023_2006_2015.parquet.gzip\n",
      "['FLNS', 'FSNS', 'PRECT', 'PRSN', 'QBOT', 'TREFHT', 'UBOT', 'VBOT']\n",
      "data loc: /glade/scratch/zhonghua/urban_params/urban_LE_random_split/eval/LR/CAM_024_2006_2015.parquet.gzip\n",
      "['FLNS', 'FSNS', 'PRECT', 'PRSN', 'QBOT', 'TREFHT', 'UBOT', 'VBOT']\n",
      "data loc: /glade/scratch/zhonghua/urban_params/urban_LE_random_split/eval/LR/CAM_025_2006_2015.parquet.gzip\n",
      "['FLNS', 'FSNS', 'PRECT', 'PRSN', 'QBOT', 'TREFHT', 'UBOT', 'VBOT']\n",
      "data loc: /glade/scratch/zhonghua/urban_params/urban_LE_random_split/eval/LR/CAM_026_2006_2015.parquet.gzip\n",
      "['FLNS', 'FSNS', 'PRECT', 'PRSN', 'QBOT', 'TREFHT', 'UBOT', 'VBOT']\n",
      "data loc: /glade/scratch/zhonghua/urban_params/urban_LE_random_split/eval/LR/CAM_027_2006_2015.parquet.gzip\n",
      "['FLNS', 'FSNS', 'PRECT', 'PRSN', 'QBOT', 'TREFHT', 'UBOT', 'VBOT']\n",
      "data loc: /glade/scratch/zhonghua/urban_params/urban_LE_random_split/eval/LR/CAM_028_2006_2015.parquet.gzip\n",
      "['FLNS', 'FSNS', 'PRECT', 'PRSN', 'QBOT', 'TREFHT', 'UBOT', 'VBOT']\n",
      "data loc: /glade/scratch/zhonghua/urban_params/urban_LE_random_split/eval/LR/CAM_029_2006_2015.parquet.gzip\n",
      "['FLNS', 'FSNS', 'PRECT', 'PRSN', 'QBOT', 'TREFHT', 'UBOT', 'VBOT']\n",
      "data loc: /glade/scratch/zhonghua/urban_params/urban_LE_random_split/eval/LR/CAM_030_2006_2015.parquet.gzip\n",
      "['FLNS', 'FSNS', 'PRECT', 'PRSN', 'QBOT', 'TREFHT', 'UBOT', 'VBOT']\n",
      "data loc: /glade/scratch/zhonghua/urban_params/urban_LE_random_split/eval/LR/CAM_031_2006_2015.parquet.gzip\n",
      "['FLNS', 'FSNS', 'PRECT', 'PRSN', 'QBOT', 'TREFHT', 'UBOT', 'VBOT']\n",
      "data loc: /glade/scratch/zhonghua/urban_params/urban_LE_random_split/eval/LR/CAM_032_2006_2015.parquet.gzip\n",
      "['FLNS', 'FSNS', 'PRECT', 'PRSN', 'QBOT', 'TREFHT', 'UBOT', 'VBOT']\n",
      "data loc: /glade/scratch/zhonghua/urban_params/urban_LE_random_split/eval/LR/CAM_033_2006_2015.parquet.gzip\n",
      "CPU times: user 21min 23s, sys: 6min 8s, total: 27min 31s\n",
      "Wall time: 28min 10s\n"
     ]
    }
   ],
   "source": [
    "%%time\n",
    "feature_ls = fd[\"CAM\"]\n",
    "\n",
    "X_ori = df[feature_ls]\n",
    "y = df[fd[\"label\"]]\n",
    "\n",
    "scaler = StandardScaler()\n",
    "scaler.fit(X_ori)\n",
    "X_scaler = scaler.transform(X_ori)\n",
    "\n",
    "X = sm.add_constant(X_scaler)\n",
    "reg = sm.OLS(y, X).fit()\n",
    "\n",
    "# ======== trianing performance ========\n",
    "print(\"model performance using training data:\")\n",
    "y_pred = reg.predict(X)\n",
    "print(\"root mean square error:\", \n",
    "      mean_squared_error(y_true=y, y_pred=y_pred, squared=False))\n",
    "print(\"mean_absolute_error:\", mean_absolute_error(y_true=y, y_pred=y_pred))\n",
    "print(\"r2:\", r2_score(y_true=y, y_pred=y_pred))\n",
    "\n",
    "def get_test_data(member, start_year, end_year, urban_LE_nc_path, parquet_save_path):\n",
    "    # convert the time to datetime format\n",
    "    ds_urban_LE = xr.open_dataset(urban_LE_nc_path+member+\"_\"+start_year+\"_\"+end_year+\".nc\")\n",
    "    ds_urban_LE = ds_urban_LE.assign_coords(time = ds_urban_LE.indexes['time'].to_datetimeindex())\n",
    "    df = ds_urban_LE.to_dataframe()\n",
    "    \n",
    "    df_train = pd.read_parquet(parquet_save_path + \"train/\" + member + \"_\"\\\n",
    "                               + start_year + \"_\" + end_year + \".parquet.gzip\", engine=\"fastparquet\")  \n",
    "    \n",
    "    del ds_urban_LE\n",
    "    gc.collect()\n",
    "    \n",
    "    # remove missing value based on urban temperature\n",
    "    df_final = df[~np.isnan(df[\"TREFMXAV_U\"])].reset_index()\n",
    "    df_final[\"member\"] = member\n",
    "    \n",
    "    # get testing data based on the saved training data\n",
    "    df_test = df_final.drop(df_train.index)\n",
    "    return df_test\n",
    "\n",
    "def get_pred(start_year, end_year, model_name, member, urban_LE_nc_path, parquet_save_path, reg):\n",
    "    # ====== get data =======\n",
    "    df_test = get_test_data(member, start_year, end_year, urban_LE_nc_path, parquet_save_path)\n",
    "    urban_surf = pd.read_parquet(urban_surf_path, engine=\"fastparquet\").reset_index()\n",
    "    test = pd.merge(df_test, urban_surf, on = [\"lat\",\"lon\"], how = \"inner\")\n",
    "    assert df_test.shape[0] == test.shape[0] #check if we merged successfully\n",
    "    del df_test, urban_surf\n",
    "    gc.collect()\n",
    "    # ====== pred and save=======\n",
    "    print(feature_ls)\n",
    "    \n",
    "    X_test_scaler = scaler.transform(test[feature_ls])\n",
    "    X_test = sm.add_constant(X_test_scaler)\n",
    "    \n",
    "    test[\"y_pred\"] = reg.predict(X_test)\n",
    "    pred_save_loc = parquet_save_path + \"eval/\" + model_name + \"/CAM_\"\\\n",
    "               + member + \"_\" + start_year + \"_\" + end_year + \".parquet.gzip\"\n",
    "    print(\"data loc:\",pred_save_loc)\n",
    "    test[[\"time\",\"lat\",\"lon\",\"TREFMXAV_U\",\"y_pred\"]].to_parquet(pred_save_loc,\n",
    "                                                                compression=\"gzip\", engine=\"pyarrow\")\n",
    "start_year = \"2006\"\n",
    "end_year = \"2015\"\n",
    "for member_id in range(int(\"003\"), int(\"034\")):\n",
    "    member = (str(member_id).zfill(3))\n",
    "    get_pred(start_year, end_year, model_name, member, urban_LE_nc_path, parquet_save_path, reg)"
   ]
  }
 ],
 "metadata": {
  "kernelspec": {
   "display_name": "Python 3 (ipykernel)",
   "language": "python",
   "name": "python3"
  },
  "language_info": {
   "codemirror_mode": {
    "name": "ipython",
    "version": 3
   },
   "file_extension": ".py",
   "mimetype": "text/x-python",
   "name": "python",
   "nbconvert_exporter": "python",
   "pygments_lexer": "ipython3",
   "version": "3.8.0"
  }
 },
 "nbformat": 4,
 "nbformat_minor": 5
}
