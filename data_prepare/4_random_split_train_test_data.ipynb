{
 "cells": [
  {
   "cell_type": "markdown",
   "id": "26428aeb",
   "metadata": {},
   "source": [
    "This script is used for:\n",
    "- spliting the Urban-LE data into training and testing data\n",
    "- saving the Urban-LE training and testing data as parquet  \n",
    "\n",
    "Reference: how to split data into training and testing (https://www.geeksforgeeks.org/divide-a-pandas-dataframe-randomly-in-a-given-ratio/)\n",
    "\n",
    "How to launch it:   \n",
    "```bash\n",
    "execcasper -A your_project -l gpu_type=v100 -l walltime=06:00:00 -l select=1:ncpus=18:mpiprocs=36:ngpus=1:mem=300GB\n",
    "bash aws_urban_env.sh\n",
    "```"
   ]
  },
  {
   "cell_type": "code",
   "execution_count": 1,
   "id": "e964ec3f",
   "metadata": {},
   "outputs": [],
   "source": [
    "import warnings\n",
    "warnings.filterwarnings('ignore')\n",
    "\n",
    "import pandas as pd\n",
    "import numpy as np\n",
    "import xarray as xr\n",
    "import gc\n",
    "from tqdm import tqdm\n",
    "\n",
    "urban_LE_nc_path = \"/glade/scratch/zhonghua/urban_params/urban_LE/\"\n",
    "parquet_save_path = \"/glade/scratch/zhonghua/urban_params/urban_LE_random_split/\""
   ]
  },
  {
   "cell_type": "code",
   "execution_count": 2,
   "id": "a8fd0f8d",
   "metadata": {},
   "outputs": [],
   "source": [
    "def save_train_test(member, start_year, end_year, urban_LE_nc_path, parquet_save_path):\n",
    "    # convert the time to datetime format\n",
    "    ds_urban_LE = xr.open_dataset(urban_LE_nc_path+member+\"_\"+start_year+\"_\"+end_year+\".nc\")\n",
    "    ds_urban_LE = ds_urban_LE.assign_coords(time = ds_urban_LE.indexes['time'].to_datetimeindex())\n",
    "    df = ds_urban_LE.to_dataframe()\n",
    "    \n",
    "    del ds_urban_LE\n",
    "    gc.collect()\n",
    "    \n",
    "    # remove missing value based on urban temperature\n",
    "    df_final = df[~np.isnan(df[\"TREFMXAV_U\"])].reset_index()\n",
    "    df_final[\"member\"] = member\n",
    "    \n",
    "    # split into training and testing\n",
    "    df_train = df_final.sample(frac=0.1/3, random_state=int(member))\n",
    "    df_test = df_final.drop(df_train.index)\n",
    "    \n",
    "    df_train.to_parquet(parquet_save_path + \"train/\" + member + \"_\"\\\n",
    "                        + start_year + \"_\" + end_year + \".parquet.gzip\",\n",
    "                        compression=\"gzip\", engine=\"fastparquet\")\n",
    "    \n",
    "    df_test.to_parquet(parquet_save_path + \"test/\" + member + \"_\"\\\n",
    "                        + start_year + \"_\" + end_year + \".parquet.gzip\",\n",
    "                        compression=\"gzip\", engine=\"fastparquet\")\n",
    "    \n",
    "    return"
   ]
  },
  {
   "cell_type": "code",
   "execution_count": null,
   "id": "e8ce2f38",
   "metadata": {},
   "outputs": [],
   "source": [
    "## about 2.5 mins for a member\n",
    "\n",
    "for member_id in tqdm(range(2, 34)):\n",
    "    print(\"============\")\n",
    "    member = (str(member_id).zfill(3))\n",
    "    save_train_test(member, \"2006\", \"2015\", urban_LE_nc_path, parquet_save_path)\n",
    "    save_train_test(member, \"2061\", \"2070\", urban_LE_nc_path, parquet_save_path)\n",
    "    print(\"finish\" + member)"
   ]
  },
  {
   "cell_type": "markdown",
   "id": "84cb2fc3",
   "metadata": {},
   "source": [
    "**merge the data** (from \"003\" to \"033\")"
   ]
  },
  {
   "cell_type": "code",
   "execution_count": 2,
   "id": "05141287",
   "metadata": {},
   "outputs": [],
   "source": [
    "def get_merge_member(start_year, end_year, parquet_save_path):\n",
    "    df_tmp_ls = []\n",
    "    for member_id in tqdm(range(3, 34)):\n",
    "        member = (str(member_id).zfill(3))\n",
    "        df_tmp_ls.append(pd.read_parquet(parquet_save_path + \"train/\" + member + \"_\"\\\n",
    "                            + start_year + \"_\" + end_year + \".parquet.gzip\", engine=\"fastparquet\"))\n",
    "    return pd.concat(df_tmp_ls)\n",
    "#     df.to_parquet(parquet_save_path + \"train_urban_LE_\"\n",
    "#                   + start_year + \"_\" + end_year + \".parquet.gzip\",\n",
    "#                   compression=\"gzip\", engine=\"fastparquet\")"
   ]
  },
  {
   "cell_type": "code",
   "execution_count": 3,
   "id": "8917ec89",
   "metadata": {},
   "outputs": [
    {
     "name": "stderr",
     "output_type": "stream",
     "text": [
      "100%|███████████████████████████████████████████| 31/31 [00:08<00:00,  3.57it/s]\n"
     ]
    },
    {
     "name": "stdout",
     "output_type": "stream",
     "text": [
      "(16737830, 13)\n"
     ]
    }
   ],
   "source": [
    "df = get_merge_member(\"2006\", \"2015\", parquet_save_path)\n",
    "print(df.shape)"
   ]
  }
 ],
 "metadata": {
  "kernelspec": {
   "display_name": "Python 3 (ipykernel)",
   "language": "python",
   "name": "python3"
  },
  "language_info": {
   "codemirror_mode": {
    "name": "ipython",
    "version": 3
   },
   "file_extension": ".py",
   "mimetype": "text/x-python",
   "name": "python",
   "nbconvert_exporter": "python",
   "pygments_lexer": "ipython3",
   "version": "3.8.0"
  }
 },
 "nbformat": 4,
 "nbformat_minor": 5
}
