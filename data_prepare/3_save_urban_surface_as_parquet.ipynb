{
 "cells": [
  {
   "cell_type": "markdown",
   "id": "674907ab",
   "metadata": {},
   "source": [
    "This script is used for:\n",
    "- adjusting the latitude and longtitude of the urban surface data     \n",
    "- converting urban surface data from xarray to dataframe and save as a parquet file   \n",
    "\n",
    "How to launch it:   \n",
    "```bash\n",
    "execcasper -A your_project -l gpu_type=v100 -l walltime=06:00:00 -l select=1:ncpus=18:mpiprocs=36:ngpus=1:mem=100GB\n",
    "bash aws_urban_env.sh\n",
    "```"
   ]
  },
  {
   "cell_type": "code",
   "execution_count": 1,
   "id": "07fd3551",
   "metadata": {},
   "outputs": [],
   "source": [
    "import warnings\n",
    "warnings.filterwarnings('ignore')\n",
    "import xarray as xr\n",
    "import gc\n",
    "import numpy as np\n",
    "import pandas as pd\n",
    "import matplotlib.pyplot as plt\n",
    "import cftime"
   ]
  },
  {
   "cell_type": "code",
   "execution_count": 2,
   "id": "e70736ad",
   "metadata": {},
   "outputs": [],
   "source": [
    "urban_LE_path = \"/glade/scratch/zhonghua/urban_params/urban_LE/\"\n",
    "urban_surf_path = \"/glade/scratch/zhonghua/urban_params/urban_surface.nc\"\n",
    "\n",
    "fd = {\n",
    "    \"label\":\"TREFMXAV_U\",\n",
    "    \"CAM\": ['FLNS','FSNS','PRECT','PRSN','QBOT','TREFHT','UBOT','VBOT'],\n",
    "    \"surf\":['CANYON_HWR','EM_IMPROAD','EM_PERROAD','EM_ROOF','EM_WALL', \n",
    "            'HT_ROOF','THICK_ROOF','THICK_WALL','T_BUILDING_MAX','T_BUILDING_MIN',\n",
    "            'WTLUNIT_ROOF','WTROAD_PERV','NLEV_IMPROAD','PCT_URBAN',\n",
    "            'ALB_IMPROAD','ALB_PERROAD','ALB_ROOF','ALB_WALL',\n",
    "            'TK_ROOF','TK_WALL','CV_ROOF','CV_WALL',\n",
    "            'TK_IMPROAD_0','CV_IMPROAD_0','TK_IMPROAD_1','CV_IMPROAD_1'],\n",
    "    \"loc\":[\"lat\",\"lon\"]\n",
    "}\n",
    "\n",
    "def load_urban_data(member, start_year, end_year, urban_LE_path=urban_LE_path, urban_surf_path=urban_surf_path):\n",
    "    # load urban climate Xarray Dataset, convert the fortmat of time, and load urban surface Xarray Dataset\n",
    "    ds_urban_LE = xr.open_dataset(urban_LE_path+member+\"_\"+start_year+\"_\"+end_year+\".nc\")\n",
    "    ds_urban_LE = ds_urban_LE.assign_coords(time = ds_urban_LE.indexes['time'].to_datetimeindex())\n",
    "    # rename the coordinate\n",
    "    ds_urban_surf = xr.open_dataset(urban_surf_path)\\\n",
    "                    .rename_dims({\"lsmlat\":\"lat\", \"lsmlon\":\"lon\"})\\\n",
    "                    .assign_coords(lat = ds_urban_LE.lat, lon = ds_urban_LE.lon)\n",
    "    return ds_urban_surf.to_dataframe()"
   ]
  },
  {
   "cell_type": "markdown",
   "id": "ef64989d",
   "metadata": {},
   "source": [
    "## save urban surface only"
   ]
  },
  {
   "cell_type": "code",
   "execution_count": 3,
   "id": "5f67d30c",
   "metadata": {},
   "outputs": [
    {
     "name": "stdout",
     "output_type": "stream",
     "text": [
      "(55296, 26)\n",
      "CPU times: user 213 ms, sys: 209 ms, total: 422 ms\n",
      "Wall time: 697 ms\n"
     ]
    }
   ],
   "source": [
    "%%time\n",
    "train = load_urban_data(\"003\", \"2006\", \"2015\")\n",
    "print(train.shape)"
   ]
  },
  {
   "cell_type": "code",
   "execution_count": 4,
   "id": "69ac75ae",
   "metadata": {
    "scrolled": true
   },
   "outputs": [
    {
     "name": "stdout",
     "output_type": "stream",
     "text": [
      "CPU times: user 234 ms, sys: 9.67 ms, total: 244 ms\n",
      "Wall time: 332 ms\n"
     ]
    },
    {
     "data": {
      "text/plain": [
       "425"
      ]
     },
     "execution_count": 4,
     "metadata": {},
     "output_type": "execute_result"
    }
   ],
   "source": [
    "%%time\n",
    "train.to_parquet(\"/glade/scratch/zhonghua/urban_params/urban_surface.parquet.gzip\",\n",
    "                compression=\"gzip\", engine=\"fastparquet\")\n",
    "del train\n",
    "gc.collect()"
   ]
  }
 ],
 "metadata": {
  "kernelspec": {
   "display_name": "Python 3 (ipykernel)",
   "language": "python",
   "name": "python3"
  },
  "language_info": {
   "codemirror_mode": {
    "name": "ipython",
    "version": 3
   },
   "file_extension": ".py",
   "mimetype": "text/x-python",
   "name": "python",
   "nbconvert_exporter": "python",
   "pygments_lexer": "ipython3",
   "version": "3.8.0"
  }
 },
 "nbformat": 4,
 "nbformat_minor": 5
}
