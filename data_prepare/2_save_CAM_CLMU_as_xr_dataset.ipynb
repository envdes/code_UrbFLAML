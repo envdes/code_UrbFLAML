{
 "cells": [
  {
   "cell_type": "markdown",
   "id": "b2dbbe80",
   "metadata": {},
   "source": [
    "This script is used for:   \n",
    "- creating and applying the urban mask to CAM data   \n",
    "- merging CAM and CLM (urban) data as a `xarray Dataset`   "
   ]
  },
  {
   "cell_type": "code",
   "execution_count": 1,
   "id": "adapted-louis",
   "metadata": {},
   "outputs": [],
   "source": [
    "import pandas as pd\n",
    "import numpy as np\n",
    "import xarray as xr\n",
    "import cftime\n",
    "import gc\n",
    "import time\n",
    "from tqdm import tqdm\n",
    "\n",
    "save_path = \"/glade/scratch/zhonghua/urban_params/urban_LE/\"\n",
    "\n",
    "\n",
    "def get_ts_masked_cam(start_date, end_date, var, member, CLM_lat, mask):   \n",
    "    # read raw data\n",
    "    var_raw = xr.open_dataset(\"/glade/collections/cdg/data/cesmLE/CESM-CAM5-BGC-LE/atm/proc/tseries/daily/\" \\\n",
    "                              + var + \"/b.e11.BRCP85C5CNBDRD.f09_g16.\"\\\n",
    "                              + member +\".cam.h1.\"\\\n",
    "                              + var + \".20060101-20801231.nc\")\n",
    "    # select time period and reset coordinate index based on CLM\n",
    "    var_reg = var_raw[var].sel(time=slice(start_date, end_date)).assign_coords(lat = CLM_lat)\n",
    "    # apply the mask \n",
    "    var_reg_mask = var_reg.where(mask)\n",
    "    # rename the DataArray\n",
    "    var_final = var_reg_mask.rename(var)\n",
    "    return var_final  \n",
    "\n",
    "# full pipeline\n",
    "def get_urban_ds(start_date, end_date, member):\n",
    "    print(\"start_date:\", start_date)\n",
    "    print(\"end_date:\", end_date) \n",
    "    print(\"member:\", member)\n",
    "    \n",
    "    # ====================\n",
    "    start_time = time.time()\n",
    "    # load the urban maximal temperature\n",
    "    TREFMXAV_U = xr.open_dataset(\"/glade/collections/cdg/data/cesmLE/CESM-CAM5-BGC-LE/lnd/proc/tseries/daily/\"\\\n",
    "                                 +\"TREFMXAV_U/b.e11.BRCP85C5CNBDRD.f09_g16.\"\\\n",
    "                                 + member + \".clm2.h1.\"\\\n",
    "                                 + \"TREFMXAV_U.20060101-20801231.nc\")\n",
    "    # get the clm latitude\n",
    "    CLM_lat = TREFMXAV_U.indexes['lat']\n",
    "    # get the mask of clm\n",
    "    mask = TREFMXAV_U[\"TREFMXAV_U\"].loc[\"2006-01-02\"].notnull().squeeze()\n",
    "    # get the Urban maximal temperature\n",
    "    U_max = TREFMXAV_U[\"TREFMXAV_U\"].sel(time=slice(start_date, end_date))\n",
    "    \n",
    "    # create a list to loop the variables\n",
    "    temp = [U_max]\n",
    "    var_list = [\"FLNS\",\"FSNS\",\n",
    "                \"PRECSC\",\"PRECSL\",\"PRECT\",\n",
    "                \"QBOT\",\"TREFHT\",\"UBOT\",\"VBOT\"]\n",
    "\n",
    "    for var in var_list:\n",
    "        df = get_ts_masked_cam(start_date, end_date, \n",
    "                               var, member, CLM_lat, mask)\n",
    "        temp.append(df)\n",
    "        del df\n",
    "        gc.collect()\n",
    "    print(\"It took\", time.time()-start_time,\"to read CLM and CAM data and apply urban mask\")\n",
    "    # ====================\n",
    "    \n",
    "    # ====================\n",
    "    # merge the list as a Xarray Dataset\n",
    "    start_time = time.time()\n",
    "    ds = xr.merge(temp)\n",
    "    print(\"It took\", time.time()-start_time,\"to merge CLM and CAM data\")\n",
    "    # ====================\n",
    "    \n",
    "    # ====================\n",
    "    # save the xarray dataset\n",
    "    start_time = time.time()\n",
    "    ds[\"PRSN\"] = ds[\"PRECSC\"] + ds[\"PRECSL\"]\n",
    "    final_var_list = [\"TREFMXAV_U\",\n",
    "                      \"FLNS\",\"FSNS\",\n",
    "                      \"PRECT\",\"PRSN\",\n",
    "                      \"QBOT\",\"TREFHT\",\n",
    "                      \"UBOT\",\"VBOT\"]\n",
    "    ds[final_var_list].to_netcdf(save_path + member\\\n",
    "                 + \"_\"+start_date[:4] + \"_\" + end_date[:4] + \".nc\")\n",
    "    print(\"It took\", time.time()-start_time,\"to save data as a netcdf file\")\n",
    "    print(\"\\n\")\n",
    "    # ===================="
   ]
  },
  {
   "cell_type": "code",
   "execution_count": 2,
   "id": "potential-savings",
   "metadata": {
    "scrolled": false
   },
   "outputs": [
    {
     "name": "stderr",
     "output_type": "stream",
     "text": [
      "\r",
      "  0%|                                                                                                                                                | 0/32 [00:00<?, ?it/s]"
     ]
    },
    {
     "name": "stdout",
     "output_type": "stream",
     "text": [
      "start_date: 2006-01-02\n",
      "end_date: 2015-12-31\n",
      "member: 002\n",
      "It took 42.054776430130005 to read CLM and CAM data and apply urban mask\n",
      "It took 0.03783226013183594 to merge CLM and CAM data\n",
      "It took 12.002175569534302 to save data as a netcdf file\n",
      "\n",
      "\n",
      "start_date: 2061-01-01\n",
      "end_date: 2070-12-31\n",
      "member: 002\n",
      "It took 40.77051329612732 to read CLM and CAM data and apply urban mask\n",
      "It took 0.03709864616394043 to merge CLM and CAM data\n"
     ]
    },
    {
     "name": "stderr",
     "output_type": "stream",
     "text": [
      "\r",
      "  3%|████▏                                                                                                                                  | 1/32 [01:47<55:32, 107.49s/it]"
     ]
    },
    {
     "name": "stdout",
     "output_type": "stream",
     "text": [
      "It took 12.538486242294312 to save data as a netcdf file\n",
      "\n",
      "\n",
      "start_date: 2006-01-02\n",
      "end_date: 2015-12-31\n",
      "member: 003\n",
      "It took 39.690590381622314 to read CLM and CAM data and apply urban mask\n",
      "It took 0.03629612922668457 to merge CLM and CAM data\n",
      "It took 11.994596481323242 to save data as a netcdf file\n",
      "\n",
      "\n",
      "start_date: 2061-01-01\n",
      "end_date: 2070-12-31\n",
      "member: 003\n",
      "It took 41.46476697921753 to read CLM and CAM data and apply urban mask\n",
      "It took 0.036382436752319336 to merge CLM and CAM data\n"
     ]
    },
    {
     "name": "stderr",
     "output_type": "stream",
     "text": [
      "\r",
      "  6%|████████▍                                                                                                                              | 2/32 [03:35<54:01, 108.05s/it]"
     ]
    },
    {
     "name": "stdout",
     "output_type": "stream",
     "text": [
      "It took 15.171664714813232 to save data as a netcdf file\n",
      "\n",
      "\n",
      "start_date: 2006-01-02\n",
      "end_date: 2015-12-31\n",
      "member: 004\n",
      "It took 39.40699553489685 to read CLM and CAM data and apply urban mask\n",
      "It took 0.03609013557434082 to merge CLM and CAM data\n",
      "It took 12.850773334503174 to save data as a netcdf file\n",
      "\n",
      "\n",
      "start_date: 2061-01-01\n",
      "end_date: 2070-12-31\n",
      "member: 004\n",
      "It took 41.76699352264404 to read CLM and CAM data and apply urban mask\n",
      "It took 0.036557674407958984 to merge CLM and CAM data\n"
     ]
    },
    {
     "name": "stderr",
     "output_type": "stream",
     "text": [
      "\r",
      "  9%|████████████▋                                                                                                                          | 3/32 [05:22<51:51, 107.28s/it]"
     ]
    },
    {
     "name": "stdout",
     "output_type": "stream",
     "text": [
      "It took 12.216286420822144 to save data as a netcdf file\n",
      "\n",
      "\n",
      "start_date: 2006-01-02\n",
      "end_date: 2015-12-31\n",
      "member: 005\n",
      "It took 50.204715728759766 to read CLM and CAM data and apply urban mask\n",
      "It took 0.03603625297546387 to merge CLM and CAM data\n",
      "It took 13.779555797576904 to save data as a netcdf file\n",
      "\n",
      "\n",
      "start_date: 2061-01-01\n",
      "end_date: 2070-12-31\n",
      "member: 005\n",
      "It took 40.21991968154907 to read CLM and CAM data and apply urban mask\n",
      "It took 0.03636288642883301 to merge CLM and CAM data\n"
     ]
    },
    {
     "name": "stderr",
     "output_type": "stream",
     "text": [
      "\r",
      " 12%|████████████████▉                                                                                                                      | 4/32 [07:20<52:05, 111.64s/it]"
     ]
    },
    {
     "name": "stdout",
     "output_type": "stream",
     "text": [
      "It took 13.9920973777771 to save data as a netcdf file\n",
      "\n",
      "\n",
      "start_date: 2006-01-02\n",
      "end_date: 2015-12-31\n",
      "member: 006\n",
      "It took 43.21948504447937 to read CLM and CAM data and apply urban mask\n",
      "It took 0.03688931465148926 to merge CLM and CAM data\n",
      "It took 13.14938998222351 to save data as a netcdf file\n",
      "\n",
      "\n",
      "start_date: 2061-01-01\n",
      "end_date: 2070-12-31\n",
      "member: 006\n",
      "It took 55.049851179122925 to read CLM and CAM data and apply urban mask\n",
      "It took 0.041792869567871094 to merge CLM and CAM data\n"
     ]
    },
    {
     "name": "stderr",
     "output_type": "stream",
     "text": [
      "\r",
      " 16%|█████████████████████                                                                                                                  | 5/32 [09:25<52:25, 116.50s/it]"
     ]
    },
    {
     "name": "stdout",
     "output_type": "stream",
     "text": [
      "It took 13.558135986328125 to save data as a netcdf file\n",
      "\n",
      "\n",
      "start_date: 2006-01-02\n",
      "end_date: 2015-12-31\n",
      "member: 007\n",
      "It took 41.22246170043945 to read CLM and CAM data and apply urban mask\n",
      "It took 0.03765392303466797 to merge CLM and CAM data\n",
      "It took 13.836047172546387 to save data as a netcdf file\n",
      "\n",
      "\n",
      "start_date: 2061-01-01\n",
      "end_date: 2070-12-31\n",
      "member: 007\n",
      "It took 40.404882192611694 to read CLM and CAM data and apply urban mask\n",
      "It took 0.037737131118774414 to merge CLM and CAM data\n"
     ]
    },
    {
     "name": "stderr",
     "output_type": "stream",
     "text": [
      "\r",
      " 19%|█████████████████████████▎                                                                                                             | 6/32 [11:14<49:19, 113.83s/it]"
     ]
    },
    {
     "name": "stdout",
     "output_type": "stream",
     "text": [
      "It took 13.05571985244751 to save data as a netcdf file\n",
      "\n",
      "\n",
      "start_date: 2006-01-02\n",
      "end_date: 2015-12-31\n",
      "member: 008\n",
      "It took 55.16173982620239 to read CLM and CAM data and apply urban mask\n",
      "It took 0.03699755668640137 to merge CLM and CAM data\n",
      "It took 13.609093189239502 to save data as a netcdf file\n",
      "\n",
      "\n",
      "start_date: 2061-01-01\n",
      "end_date: 2070-12-31\n",
      "member: 008\n",
      "It took 42.99603748321533 to read CLM and CAM data and apply urban mask\n",
      "It took 0.03616452217102051 to merge CLM and CAM data\n"
     ]
    },
    {
     "name": "stderr",
     "output_type": "stream",
     "text": [
      "\r",
      " 22%|█████████████████████████████▌                                                                                                         | 7/32 [13:20<49:07, 117.91s/it]"
     ]
    },
    {
     "name": "stdout",
     "output_type": "stream",
     "text": [
      "It took 14.425787925720215 to save data as a netcdf file\n",
      "\n",
      "\n",
      "start_date: 2006-01-02\n",
      "end_date: 2015-12-31\n",
      "member: 009\n",
      "It took 40.16712141036987 to read CLM and CAM data and apply urban mask\n",
      "It took 0.03627419471740723 to merge CLM and CAM data\n",
      "It took 12.030988454818726 to save data as a netcdf file\n",
      "\n",
      "\n",
      "start_date: 2061-01-01\n",
      "end_date: 2070-12-31\n",
      "member: 009\n",
      "It took 45.016154289245605 to read CLM and CAM data and apply urban mask\n",
      "It took 0.036751508712768555 to merge CLM and CAM data\n"
     ]
    },
    {
     "name": "stderr",
     "output_type": "stream",
     "text": [
      "\r",
      " 25%|█████████████████████████████████▊                                                                                                     | 8/32 [15:11<46:17, 115.72s/it]"
     ]
    },
    {
     "name": "stdout",
     "output_type": "stream",
     "text": [
      "It took 13.694859266281128 to save data as a netcdf file\n",
      "\n",
      "\n",
      "start_date: 2006-01-02\n",
      "end_date: 2015-12-31\n",
      "member: 010\n",
      "It took 41.571786880493164 to read CLM and CAM data and apply urban mask\n",
      "It took 0.03649187088012695 to merge CLM and CAM data\n",
      "It took 13.667484760284424 to save data as a netcdf file\n",
      "\n",
      "\n",
      "start_date: 2061-01-01\n",
      "end_date: 2070-12-31\n",
      "member: 010\n",
      "It took 40.19244313240051 to read CLM and CAM data and apply urban mask\n",
      "It took 0.03622174263000488 to merge CLM and CAM data\n"
     ]
    },
    {
     "name": "stderr",
     "output_type": "stream",
     "text": [
      "\r",
      " 28%|█████████████████████████████████████▉                                                                                                 | 9/32 [17:00<43:30, 113.49s/it]"
     ]
    },
    {
     "name": "stdout",
     "output_type": "stream",
     "text": [
      "It took 13.006099462509155 to save data as a netcdf file\n",
      "\n",
      "\n",
      "start_date: 2006-01-02\n",
      "end_date: 2015-12-31\n",
      "member: 011\n",
      "It took 47.39234519004822 to read CLM and CAM data and apply urban mask\n",
      "It took 0.037491798400878906 to merge CLM and CAM data\n",
      "It took 14.015307903289795 to save data as a netcdf file\n",
      "\n",
      "\n",
      "start_date: 2061-01-01\n",
      "end_date: 2070-12-31\n",
      "member: 011\n",
      "It took 40.38441610336304 to read CLM and CAM data and apply urban mask\n",
      "It took 0.03673434257507324 to merge CLM and CAM data\n"
     ]
    },
    {
     "name": "stderr",
     "output_type": "stream",
     "text": [
      "\r",
      " 31%|█████████████████████████████████████████▉                                                                                            | 10/32 [18:56<41:56, 114.39s/it]"
     ]
    },
    {
     "name": "stdout",
     "output_type": "stream",
     "text": [
      "It took 14.493151187896729 to save data as a netcdf file\n",
      "\n",
      "\n",
      "start_date: 2006-01-02\n",
      "end_date: 2015-12-31\n",
      "member: 012\n",
      "It took 41.39013695716858 to read CLM and CAM data and apply urban mask\n",
      "It took 0.036489248275756836 to merge CLM and CAM data\n",
      "It took 13.639288187026978 to save data as a netcdf file\n",
      "\n",
      "\n",
      "start_date: 2061-01-01\n",
      "end_date: 2070-12-31\n",
      "member: 012\n",
      "It took 39.926759004592896 to read CLM and CAM data and apply urban mask\n",
      "It took 0.03648114204406738 to merge CLM and CAM data\n"
     ]
    },
    {
     "name": "stderr",
     "output_type": "stream",
     "text": [
      "\r",
      " 34%|██████████████████████████████████████████████                                                                                        | 11/32 [20:44<39:19, 112.37s/it]"
     ]
    },
    {
     "name": "stdout",
     "output_type": "stream",
     "text": [
      "It took 12.705523490905762 to save data as a netcdf file\n",
      "\n",
      "\n",
      "start_date: 2006-01-02\n",
      "end_date: 2015-12-31\n",
      "member: 013\n",
      "It took 42.06392955780029 to read CLM and CAM data and apply urban mask\n",
      "It took 0.03650498390197754 to merge CLM and CAM data\n",
      "It took 13.85899019241333 to save data as a netcdf file\n",
      "\n",
      "\n",
      "start_date: 2061-01-01\n",
      "end_date: 2070-12-31\n",
      "member: 013\n",
      "It took 40.15222239494324 to read CLM and CAM data and apply urban mask\n",
      "It took 0.03671622276306152 to merge CLM and CAM data\n"
     ]
    },
    {
     "name": "stderr",
     "output_type": "stream",
     "text": [
      "\r",
      " 38%|██████████████████████████████████████████████████▎                                                                                   | 12/32 [22:35<37:17, 111.86s/it]"
     ]
    },
    {
     "name": "stdout",
     "output_type": "stream",
     "text": [
      "It took 14.479373216629028 to save data as a netcdf file\n",
      "\n",
      "\n",
      "start_date: 2006-01-02\n",
      "end_date: 2015-12-31\n",
      "member: 014\n",
      "It took 48.02102208137512 to read CLM and CAM data and apply urban mask\n",
      "It took 0.03692054748535156 to merge CLM and CAM data\n",
      "It took 13.903100967407227 to save data as a netcdf file\n",
      "\n",
      "\n",
      "start_date: 2061-01-01\n",
      "end_date: 2070-12-31\n",
      "member: 014\n",
      "It took 45.837037324905396 to read CLM and CAM data and apply urban mask\n",
      "It took 0.03620433807373047 to merge CLM and CAM data\n"
     ]
    },
    {
     "name": "stderr",
     "output_type": "stream",
     "text": [
      "\r",
      " 41%|██████████████████████████████████████████████████████▍                                                                               | 13/32 [24:35<36:15, 114.48s/it]"
     ]
    },
    {
     "name": "stdout",
     "output_type": "stream",
     "text": [
      "It took 12.624279975891113 to save data as a netcdf file\n",
      "\n",
      "\n",
      "start_date: 2006-01-02\n",
      "end_date: 2015-12-31\n",
      "member: 015\n",
      "It took 42.673664808273315 to read CLM and CAM data and apply urban mask\n",
      "It took 0.03664803504943848 to merge CLM and CAM data\n",
      "It took 13.66753888130188 to save data as a netcdf file\n",
      "\n",
      "\n",
      "start_date: 2061-01-01\n",
      "end_date: 2070-12-31\n",
      "member: 015\n",
      "It took 49.8239004611969 to read CLM and CAM data and apply urban mask\n",
      "It took 0.03632950782775879 to merge CLM and CAM data\n"
     ]
    },
    {
     "name": "stderr",
     "output_type": "stream",
     "text": [
      "\r",
      " 44%|██████████████████████████████████████████████████████████▋                                                                           | 14/32 [26:34<34:45, 115.88s/it]"
     ]
    },
    {
     "name": "stdout",
     "output_type": "stream",
     "text": [
      "It took 12.828817129135132 to save data as a netcdf file\n",
      "\n",
      "\n",
      "start_date: 2006-01-02\n",
      "end_date: 2015-12-31\n",
      "member: 016\n",
      "It took 41.17328453063965 to read CLM and CAM data and apply urban mask\n",
      "It took 0.03734874725341797 to merge CLM and CAM data\n",
      "It took 13.124312162399292 to save data as a netcdf file\n",
      "\n",
      "\n",
      "start_date: 2061-01-01\n",
      "end_date: 2070-12-31\n",
      "member: 016\n",
      "It took 39.60347843170166 to read CLM and CAM data and apply urban mask\n",
      "It took 0.036176204681396484 to merge CLM and CAM data\n"
     ]
    },
    {
     "name": "stderr",
     "output_type": "stream",
     "text": [
      "\r",
      " 47%|██████████████████████████████████████████████████████████████▊                                                                       | 15/32 [28:21<32:04, 113.21s/it]"
     ]
    },
    {
     "name": "stdout",
     "output_type": "stream",
     "text": [
      "It took 12.992646217346191 to save data as a netcdf file\n",
      "\n",
      "\n",
      "start_date: 2006-01-02\n",
      "end_date: 2015-12-31\n",
      "member: 017\n",
      "It took 46.80134105682373 to read CLM and CAM data and apply urban mask\n",
      "It took 0.0364832878112793 to merge CLM and CAM data\n",
      "It took 13.359600067138672 to save data as a netcdf file\n",
      "\n",
      "\n",
      "start_date: 2061-01-01\n",
      "end_date: 2070-12-31\n",
      "member: 017\n",
      "It took 43.4380407333374 to read CLM and CAM data and apply urban mask\n",
      "It took 0.03627967834472656 to merge CLM and CAM data\n"
     ]
    },
    {
     "name": "stderr",
     "output_type": "stream",
     "text": [
      "\r",
      " 50%|███████████████████████████████████████████████████████████████████                                                                   | 16/32 [30:18<30:29, 114.37s/it]"
     ]
    },
    {
     "name": "stdout",
     "output_type": "stream",
     "text": [
      "It took 13.32430100440979 to save data as a netcdf file\n",
      "\n",
      "\n",
      "start_date: 2006-01-02\n",
      "end_date: 2015-12-31\n",
      "member: 018\n",
      "It took 40.420602798461914 to read CLM and CAM data and apply urban mask\n",
      "It took 0.03631258010864258 to merge CLM and CAM data\n",
      "It took 14.526991128921509 to save data as a netcdf file\n",
      "\n",
      "\n",
      "start_date: 2061-01-01\n",
      "end_date: 2070-12-31\n",
      "member: 018\n",
      "It took 44.85779309272766 to read CLM and CAM data and apply urban mask\n",
      "It took 0.03633856773376465 to merge CLM and CAM data\n"
     ]
    },
    {
     "name": "stderr",
     "output_type": "stream",
     "text": [
      "\r",
      " 53%|███████████████████████████████████████████████████████████████████████▏                                                              | 17/32 [32:12<28:31, 114.13s/it]"
     ]
    },
    {
     "name": "stdout",
     "output_type": "stream",
     "text": [
      "It took 13.650166034698486 to save data as a netcdf file\n",
      "\n",
      "\n",
      "start_date: 2006-01-02\n",
      "end_date: 2015-12-31\n",
      "member: 019\n",
      "It took 40.59800958633423 to read CLM and CAM data and apply urban mask\n",
      "It took 0.03637814521789551 to merge CLM and CAM data\n",
      "It took 13.255197763442993 to save data as a netcdf file\n",
      "\n",
      "\n",
      "start_date: 2061-01-01\n",
      "end_date: 2070-12-31\n",
      "member: 019\n",
      "It took 39.67901802062988 to read CLM and CAM data and apply urban mask\n",
      "It took 0.03623795509338379 to merge CLM and CAM data\n"
     ]
    },
    {
     "name": "stderr",
     "output_type": "stream",
     "text": [
      "\r",
      " 56%|███████████████████████████████████████████████████████████████████████████▍                                                          | 18/32 [33:59<26:07, 111.95s/it]"
     ]
    },
    {
     "name": "stdout",
     "output_type": "stream",
     "text": [
      "It took 13.20799446105957 to save data as a netcdf file\n",
      "\n",
      "\n",
      "start_date: 2006-01-02\n",
      "end_date: 2015-12-31\n",
      "member: 020\n",
      "It took 40.483299255371094 to read CLM and CAM data and apply urban mask\n",
      "It took 0.036051034927368164 to merge CLM and CAM data\n",
      "It took 13.36899471282959 to save data as a netcdf file\n",
      "\n",
      "\n",
      "start_date: 2061-01-01\n",
      "end_date: 2070-12-31\n",
      "member: 020\n",
      "It took 44.5171320438385 to read CLM and CAM data and apply urban mask\n",
      "It took 0.03600811958312988 to merge CLM and CAM data\n"
     ]
    },
    {
     "name": "stderr",
     "output_type": "stream",
     "text": [
      "\r",
      " 59%|███████████████████████████████████████████████████████████████████████████████▌                                                      | 19/32 [35:50<24:12, 111.76s/it]"
     ]
    },
    {
     "name": "stdout",
     "output_type": "stream",
     "text": [
      "It took 12.837533712387085 to save data as a netcdf file\n",
      "\n",
      "\n",
      "start_date: 2006-01-02\n",
      "end_date: 2015-12-31\n",
      "member: 021\n",
      "It took 40.16028380393982 to read CLM and CAM data and apply urban mask\n",
      "It took 0.03619742393493652 to merge CLM and CAM data\n",
      "It took 14.392544507980347 to save data as a netcdf file\n",
      "\n",
      "\n",
      "start_date: 2061-01-01\n",
      "end_date: 2070-12-31\n",
      "member: 021\n",
      "It took 39.554680824279785 to read CLM and CAM data and apply urban mask\n",
      "It took 0.03593325614929199 to merge CLM and CAM data\n"
     ]
    },
    {
     "name": "stderr",
     "output_type": "stream",
     "text": [
      "\r",
      " 62%|███████████████████████████████████████████████████████████████████████████████████▊                                                  | 20/32 [37:38<22:07, 110.65s/it]"
     ]
    },
    {
     "name": "stdout",
     "output_type": "stream",
     "text": [
      "It took 13.8205885887146 to save data as a netcdf file\n",
      "\n",
      "\n",
      "start_date: 2006-01-02\n",
      "end_date: 2015-12-31\n",
      "member: 022\n",
      "It took 43.592883348464966 to read CLM and CAM data and apply urban mask\n",
      "It took 0.036131858825683594 to merge CLM and CAM data\n",
      "It took 12.377812623977661 to save data as a netcdf file\n",
      "\n",
      "\n",
      "start_date: 2061-01-01\n",
      "end_date: 2070-12-31\n",
      "member: 022\n",
      "It took 42.018704891204834 to read CLM and CAM data and apply urban mask\n",
      "It took 0.03622746467590332 to merge CLM and CAM data\n"
     ]
    },
    {
     "name": "stderr",
     "output_type": "stream",
     "text": [
      "\r",
      " 66%|███████████████████████████████████████████████████████████████████████████████████████▉                                              | 21/32 [39:36<20:39, 112.70s/it]"
     ]
    },
    {
     "name": "stdout",
     "output_type": "stream",
     "text": [
      "It took 19.385955095291138 to save data as a netcdf file\n",
      "\n",
      "\n",
      "start_date: 2006-01-02\n",
      "end_date: 2015-12-31\n",
      "member: 023\n",
      "It took 40.21433091163635 to read CLM and CAM data and apply urban mask\n",
      "It took 0.036713600158691406 to merge CLM and CAM data\n",
      "It took 12.691414594650269 to save data as a netcdf file\n",
      "\n",
      "\n",
      "start_date: 2061-01-01\n",
      "end_date: 2070-12-31\n",
      "member: 023\n",
      "It took 51.22780513763428 to read CLM and CAM data and apply urban mask\n",
      "It took 0.03722214698791504 to merge CLM and CAM data\n"
     ]
    },
    {
     "name": "stderr",
     "output_type": "stream",
     "text": [
      "\r",
      " 69%|████████████████████████████████████████████████████████████████████████████████████████████▏                                         | 22/32 [41:33<19:00, 114.02s/it]"
     ]
    },
    {
     "name": "stdout",
     "output_type": "stream",
     "text": [
      "It took 12.839134931564331 to save data as a netcdf file\n",
      "\n",
      "\n",
      "start_date: 2006-01-02\n",
      "end_date: 2015-12-31\n",
      "member: 024\n",
      "It took 41.674442529678345 to read CLM and CAM data and apply urban mask\n",
      "It took 0.03841376304626465 to merge CLM and CAM data\n",
      "It took 13.191061735153198 to save data as a netcdf file\n",
      "\n",
      "\n",
      "start_date: 2061-01-01\n",
      "end_date: 2070-12-31\n",
      "member: 024\n",
      "It took 41.10532021522522 to read CLM and CAM data and apply urban mask\n",
      "It took 0.03618764877319336 to merge CLM and CAM data\n"
     ]
    },
    {
     "name": "stderr",
     "output_type": "stream",
     "text": [
      "\r",
      " 72%|████████████████████████████████████████████████████████████████████████████████████████████████▎                                     | 23/32 [43:23<16:54, 112.77s/it]"
     ]
    },
    {
     "name": "stdout",
     "output_type": "stream",
     "text": [
      "It took 13.760824203491211 to save data as a netcdf file\n",
      "\n",
      "\n",
      "start_date: 2006-01-02\n",
      "end_date: 2015-12-31\n",
      "member: 025\n",
      "It took 54.59514355659485 to read CLM and CAM data and apply urban mask\n",
      "It took 0.03643918037414551 to merge CLM and CAM data\n",
      "It took 13.567375183105469 to save data as a netcdf file\n",
      "\n",
      "\n",
      "start_date: 2061-01-01\n",
      "end_date: 2070-12-31\n",
      "member: 025\n",
      "It took 39.700745820999146 to read CLM and CAM data and apply urban mask\n",
      "It took 0.03620648384094238 to merge CLM and CAM data\n"
     ]
    },
    {
     "name": "stderr",
     "output_type": "stream",
     "text": [
      "\r",
      " 75%|████████████████████████████████████████████████████████████████████████████████████████████████████▌                                 | 24/32 [45:24<15:21, 115.19s/it]"
     ]
    },
    {
     "name": "stdout",
     "output_type": "stream",
     "text": [
      "It took 12.838677406311035 to save data as a netcdf file\n",
      "\n",
      "\n",
      "start_date: 2006-01-02\n",
      "end_date: 2015-12-31\n",
      "member: 026\n",
      "It took 41.458173990249634 to read CLM and CAM data and apply urban mask\n",
      "It took 0.03614926338195801 to merge CLM and CAM data\n",
      "It took 12.904028415679932 to save data as a netcdf file\n",
      "\n",
      "\n",
      "start_date: 2061-01-01\n",
      "end_date: 2070-12-31\n",
      "member: 026\n",
      "It took 50.01003551483154 to read CLM and CAM data and apply urban mask\n",
      "It took 0.03699469566345215 to merge CLM and CAM data\n"
     ]
    },
    {
     "name": "stderr",
     "output_type": "stream",
     "text": [
      "\r",
      " 78%|████████████████████████████████████████████████████████████████████████████████████████████████████████▋                             | 25/32 [47:21<13:31, 115.96s/it]"
     ]
    },
    {
     "name": "stdout",
     "output_type": "stream",
     "text": [
      "It took 13.255491971969604 to save data as a netcdf file\n",
      "\n",
      "\n",
      "start_date: 2006-01-02\n",
      "end_date: 2015-12-31\n",
      "member: 027\n",
      "It took 40.78712296485901 to read CLM and CAM data and apply urban mask\n",
      "It took 0.0363161563873291 to merge CLM and CAM data\n",
      "It took 13.597782135009766 to save data as a netcdf file\n",
      "\n",
      "\n",
      "start_date: 2061-01-01\n",
      "end_date: 2070-12-31\n",
      "member: 027\n",
      "It took 40.53498578071594 to read CLM and CAM data and apply urban mask\n",
      "It took 0.036855459213256836 to merge CLM and CAM data\n"
     ]
    },
    {
     "name": "stderr",
     "output_type": "stream",
     "text": [
      "\r",
      " 81%|████████████████████████████████████████████████████████████████████████████████████████████████████████████▉                         | 26/32 [49:09<11:20, 113.36s/it]"
     ]
    },
    {
     "name": "stdout",
     "output_type": "stream",
     "text": [
      "It took 12.239888191223145 to save data as a netcdf file\n",
      "\n",
      "\n",
      "start_date: 2006-01-02\n",
      "end_date: 2015-12-31\n",
      "member: 028\n",
      "It took 48.615551710128784 to read CLM and CAM data and apply urban mask\n",
      "It took 0.03630495071411133 to merge CLM and CAM data\n",
      "It took 13.057092666625977 to save data as a netcdf file\n",
      "\n",
      "\n",
      "start_date: 2061-01-01\n",
      "end_date: 2070-12-31\n",
      "member: 028\n",
      "It took 39.4512836933136 to read CLM and CAM data and apply urban mask\n",
      "It took 0.03609323501586914 to merge CLM and CAM data\n"
     ]
    },
    {
     "name": "stderr",
     "output_type": "stream",
     "text": [
      "\r",
      " 84%|█████████████████████████████████████████████████████████████████████████████████████████████████████████████████                     | 27/32 [51:03<09:27, 113.54s/it]"
     ]
    },
    {
     "name": "stdout",
     "output_type": "stream",
     "text": [
      "It took 12.715713024139404 to save data as a netcdf file\n",
      "\n",
      "\n",
      "start_date: 2006-01-02\n",
      "end_date: 2015-12-31\n",
      "member: 029\n",
      "It took 39.57922315597534 to read CLM and CAM data and apply urban mask\n",
      "It took 0.036346435546875 to merge CLM and CAM data\n",
      "It took 12.96129059791565 to save data as a netcdf file\n",
      "\n",
      "\n",
      "start_date: 2061-01-01\n",
      "end_date: 2070-12-31\n",
      "member: 029\n",
      "It took 49.03114604949951 to read CLM and CAM data and apply urban mask\n",
      "It took 0.03680300712585449 to merge CLM and CAM data\n"
     ]
    },
    {
     "name": "stderr",
     "output_type": "stream",
     "text": [
      "\r",
      " 88%|█████████████████████████████████████████████████████████████████████████████████████████████████████████████████████▎                | 28/32 [52:59<07:37, 114.32s/it]"
     ]
    },
    {
     "name": "stdout",
     "output_type": "stream",
     "text": [
      "It took 14.443552017211914 to save data as a netcdf file\n",
      "\n",
      "\n",
      "start_date: 2006-01-02\n",
      "end_date: 2015-12-31\n",
      "member: 030\n",
      "It took 44.05803680419922 to read CLM and CAM data and apply urban mask\n",
      "It took 0.03691244125366211 to merge CLM and CAM data\n",
      "It took 15.984790563583374 to save data as a netcdf file\n",
      "\n",
      "\n",
      "start_date: 2061-01-01\n",
      "end_date: 2070-12-31\n",
      "member: 030\n",
      "It took 40.09226393699646 to read CLM and CAM data and apply urban mask\n",
      "It took 0.03638315200805664 to merge CLM and CAM data\n"
     ]
    },
    {
     "name": "stderr",
     "output_type": "stream",
     "text": [
      "\r",
      " 91%|█████████████████████████████████████████████████████████████████████████████████████████████████████████████████████████▍            | 29/32 [54:52<05:42, 114.08s/it]"
     ]
    },
    {
     "name": "stdout",
     "output_type": "stream",
     "text": [
      "It took 13.264240980148315 to save data as a netcdf file\n",
      "\n",
      "\n",
      "start_date: 2006-01-02\n",
      "end_date: 2015-12-31\n",
      "member: 031\n",
      "It took 21.234689712524414 to read CLM and CAM data and apply urban mask\n",
      "It took 0.03761911392211914 to merge CLM and CAM data\n",
      "It took 14.902407169342041 to save data as a netcdf file\n",
      "\n",
      "\n",
      "start_date: 2061-01-01\n",
      "end_date: 2070-12-31\n",
      "member: 031\n",
      "It took 20.3859384059906 to read CLM and CAM data and apply urban mask\n",
      "It took 0.038945674896240234 to merge CLM and CAM data\n"
     ]
    },
    {
     "name": "stderr",
     "output_type": "stream",
     "text": [
      "\r",
      " 94%|█████████████████████████████████████████████████████████████████████████████████████████████████████████████████████████████▋        | 30/32 [56:04<03:22, 101.38s/it]"
     ]
    },
    {
     "name": "stdout",
     "output_type": "stream",
     "text": [
      "It took 15.069166421890259 to save data as a netcdf file\n",
      "\n",
      "\n",
      "start_date: 2006-01-02\n",
      "end_date: 2015-12-31\n",
      "member: 032\n",
      "It took 22.504070520401 to read CLM and CAM data and apply urban mask\n",
      "It took 0.0364072322845459 to merge CLM and CAM data\n",
      "It took 13.828955888748169 to save data as a netcdf file\n",
      "\n",
      "\n",
      "start_date: 2061-01-01\n",
      "end_date: 2070-12-31\n",
      "member: 032\n",
      "It took 23.810172080993652 to read CLM and CAM data and apply urban mask\n",
      "It took 0.03769230842590332 to merge CLM and CAM data\n"
     ]
    },
    {
     "name": "stderr",
     "output_type": "stream",
     "text": [
      "\r",
      " 97%|██████████████████████████████████████████████████████████████████████████████████████████████████████████████████████████████████▊    | 31/32 [57:20<01:33, 93.82s/it]"
     ]
    },
    {
     "name": "stdout",
     "output_type": "stream",
     "text": [
      "It took 15.929891109466553 to save data as a netcdf file\n",
      "\n",
      "\n",
      "start_date: 2006-01-02\n",
      "end_date: 2015-12-31\n",
      "member: 033\n",
      "It took 21.785003662109375 to read CLM and CAM data and apply urban mask\n",
      "It took 0.03648519515991211 to merge CLM and CAM data\n",
      "It took 15.261108875274658 to save data as a netcdf file\n",
      "\n",
      "\n",
      "start_date: 2061-01-01\n",
      "end_date: 2070-12-31\n",
      "member: 033\n",
      "It took 20.51813817024231 to read CLM and CAM data and apply urban mask\n",
      "It took 0.037122249603271484 to merge CLM and CAM data\n"
     ]
    },
    {
     "name": "stderr",
     "output_type": "stream",
     "text": [
      "100%|██████████████████████████████████████████████████████████████████████████████████████████████████████████████████████████████████████| 32/32 [58:35<00:00, 109.85s/it]"
     ]
    },
    {
     "name": "stdout",
     "output_type": "stream",
     "text": [
      "It took 16.9983971118927 to save data as a netcdf file\n",
      "\n",
      "\n",
      "CPU times: user 42min 5s, sys: 8min 45s, total: 50min 51s\n",
      "Wall time: 58min 35s\n"
     ]
    },
    {
     "name": "stderr",
     "output_type": "stream",
     "text": [
      "\n"
     ]
    }
   ],
   "source": [
    "%%time\n",
    "for i in tqdm(range(2,34)):\n",
    "    member = (str(i).zfill(3))\n",
    "    get_urban_ds(start_date=\"2006-01-02\", end_date=\"2015-12-31\", member=member)\n",
    "    get_urban_ds(start_date=\"2061-01-01\", end_date=\"2070-12-31\", member=member) "
   ]
  }
 ],
 "metadata": {
  "kernelspec": {
   "display_name": "Python 3 (ipykernel)",
   "language": "python",
   "name": "python3"
  },
  "language_info": {
   "codemirror_mode": {
    "name": "ipython",
    "version": 3
   },
   "file_extension": ".py",
   "mimetype": "text/x-python",
   "name": "python",
   "nbconvert_exporter": "python",
   "pygments_lexer": "ipython3",
   "version": "3.8.0"
  }
 },
 "nbformat": 4,
 "nbformat_minor": 5
}
